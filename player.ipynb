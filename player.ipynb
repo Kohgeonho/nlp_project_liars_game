{
 "metadata": {
  "language_info": {
   "codemirror_mode": {
    "name": "ipython",
    "version": 3
   },
   "file_extension": ".py",
   "mimetype": "text/x-python",
   "name": "python",
   "nbconvert_exporter": "python",
   "pygments_lexer": "ipython3",
   "version": "3.8.5"
  },
  "orig_nbformat": 2,
  "kernelspec": {
   "name": "python385jvsc74a57bd08235b21b7e4ccb1a631c75a86bc50b1a38dfb6faace30e871c40999987116d9b",
   "display_name": "Python 3.8.5 64-bit ('base': conda)"
  }
 },
 "nbformat": 4,
 "nbformat_minor": 2,
 "cells": [
  {
   "cell_type": "code",
   "execution_count": 1,
   "metadata": {},
   "outputs": [],
   "source": [
    "from word_association import WordTable"
   ]
  },
  {
   "cell_type": "code",
   "execution_count": 58,
   "metadata": {},
   "outputs": [],
   "source": [
    "class Liar():\n",
    "    def __init__(self, topic, suggestions, players=3, play_num=3):\n",
    "\n",
    "        self.topic = topic\n",
    "        self.suggestions = suggestions\n",
    "        self.players = players\n",
    "        self.play_num = play_num\n",
    "        self.round = 1\n",
    "\n",
    "        self.wordtable = WordTable(category=topic, wordlist=suggestions)\n",
    "\n",
    "    def resetTable(self):\n",
    "        self.wordtable.resetScore()\n",
    "\n",
    "    def myTurn(self):\n",
    "\n",
    "        sorted_score = sorted(self.wordtable.score.items() , key = lambda x:x[1])\n",
    "        SWS = self.wordtable.SWS\n",
    "        DEF = self.wordtable.DEF\n",
    "        score = self.wordtable.score\n",
    "\n",
    "        candidates = []\n",
    "        liar_keyword = {}\n",
    "\n",
    "        for i in range(5):\n",
    "            for NP in DEF[sorted_score[i][0]]['NPs']:\n",
    "                candidates += [word for word, tag in NP if tag.startswith('NN') or tag.startswith('JJ')]\n",
    "\n",
    "        for c in candidates:\n",
    "            liar_keyword[c] = sum(SWS[word][c] * score[word] for word in score)\n",
    "\n",
    "        print(liar_keyword)\n",
    "        print(f'{self.play_num}: my turn')\n",
    "\n",
    "    def others(self, description):\n",
    "        self.wordtable.sentenceScore(description)\n",
    "\n",
    "    def endofGame(self):\n",
    "        print(\"The answer is {}.\".format(max(self.wordtable.score)))\n",
    "\n"
   ]
  },
  {
   "cell_type": "code",
   "execution_count": 3,
   "metadata": {},
   "outputs": [],
   "source": [
    "topic = 'animals'\n",
    "suggestions = ['bellbird', 'pangolin', 'gnu', 'horse', 'pelican', 'quail', 'salamander', 'greenland shark', 'gecko', 'oriole', 'zebra', 'sperm whale', 'plover', 'elephant seal', 'albatross', 'macaw', 'junco', 'eel', 'woodpecker', 'corn snake', 'tiger', 'ray', 'rooster', 'dog', 'hawk']\n",
    "liar = Liar(topic, suggestions)"
   ]
  },
  {
   "cell_type": "code",
   "execution_count": 6,
   "metadata": {},
   "outputs": [
    {
     "output_type": "stream",
     "name": "stdout",
     "text": [
      "[('bellbird', 0), ('gnu', 0), ('horse', 0), ('pelican', 0), ('greenland shark', 0), ('oriole', 0), ('zebra', 0), ('sperm whale', 0), ('elephant seal', 0), ('albatross', 0), ('macaw', 0), ('junco', 0), ('eel', 0), ('woodpecker', 0), ('corn snake', 0), ('tiger', 0), ('ray', 0), ('rooster', 0), ('hawk', 0), ('salamander', 0.06), ('gecko', 0.13), ('quail', 0.17), ('pangolin', 1), ('plover', 1), ('dog', 2.09)]\n"
     ]
    }
   ],
   "source": [
    "liar.others(\"It is really small and cute.\")\n",
    "liar.others(\"It has fur in its whole body.\")\n",
    "liar.others(\"People raise it as a pet.\")\n",
    "liar.my_turn()"
   ]
  },
  {
   "cell_type": "code",
   "execution_count": 45,
   "metadata": {},
   "outputs": [],
   "source": [
    "class Player():\n",
    "    def __init__(self, topic, suggestions, answer, players, play_num):\n",
    "\n",
    "        self.topic = topic\n",
    "        self.suggestions = suggestions\n",
    "        self.answer = answer\n",
    "        self.players = players\n",
    "        self.play_num = play_num\n",
    "\n",
    "        self.liarscore = {}\n",
    "        for i in range(1, players+1):\n",
    "            if i != play_num:\n",
    "                self.liarscore[i] = 0\n",
    "        self.wordtable = WordTable(category=topic, wordlist=suggestions)\n",
    "    \n",
    "    def resetTable(self):\n",
    "        self.wordtable.resetScore()\n",
    "\n",
    "    def myTurn(self):\n",
    "        print(f'{self.play_num}: my turn')\n",
    "\n",
    "    def others(self, description, player):\n",
    "        self.wordtable.resetScore()\n",
    "        self.wordtable.sentenceScore(description)\n",
    "        \n",
    "        for word in self.wordtable.score:\n",
    "            self.liarscore[player] += self.wordtable.score[word] - self.wordtable.score[self.answer]\n",
    "\n",
    "    def endofGame(self):\n",
    "        print(\"Liar is player{}\".format(max(self.liarscore)))"
   ]
  },
  {
   "cell_type": "code",
   "execution_count": 59,
   "metadata": {},
   "outputs": [],
   "source": [
    "topic = 'animals'\n",
    "suggestions = ['bellbird', 'pangolin', 'gnu', 'horse', 'pelican', 'quail', 'salamander', 'greenland shark', 'gecko', 'oriole', 'zebra', 'sperm whale', 'plover', 'elephant seal', 'albatross', 'macaw', 'junco', 'eel', 'woodpecker', 'corn snake', 'tiger', 'ray', 'rooster', 'dog', 'hawk']\n",
    "player1 = Player(topic, suggestions, answer='horse', players=3, play_num=1)\n",
    "player2 = Player(topic, suggestions, answer='horse', players=3, play_num=2)\n",
    "liar = Liar(topic, suggestions, players=3, play_num=3)"
   ]
  },
  {
   "cell_type": "code",
   "execution_count": 60,
   "metadata": {},
   "outputs": [
    {
     "output_type": "stream",
     "name": "stdout",
     "text": [
      "1: my turn\n2: my turn\n{'several': 0.0, 'tropical': 0.0, 'American': 0.0, 'passerine': 0.0, 'birds': 0.0, 'genus': 0.0, 'Procnias': 0.0, 'bell-like': 0.0, 'call': 0.0, 'family': 0.0, 'Cotingidae': 0.0, 'cotingas': 0.0, 'scaly': 0.0, 'anteater': 0.0, 'mammal': 0.0, 'order': 0.0, 'Pholidota': 0.0, 'Africa': 0.0, 'S': 0.0, 'Asia': 0.0, 'Indonesia': 0.0, 'body': 0.0, 'horny': 0.0, 'scales': 0.0, 'long': 0.0, 'snout': 0.0, 'ants': 0.0, 'termites': 0.0, 'gnu': 0.0, 'large': 0.0004, 'African': 0.0, 'deer': 0.0, 'pelican': 0.0, 'type': 0.0, 'water': 0.0, 'bird': 0.0, 'fish': 0.0, 'bottom': 0.0, 'part': 0.0, 'beak': 0.0, 'bag': 0.0, 'quail': 0.0, 'small': 0.0, 'shot': 0.0, 'eaten': 0.0}\n3: my turn\n1: my turn\n2: my turn\n{'several': 0.0, 'tropical': 0.0, 'American': 0.0, 'passerine': 0.0, 'birds': 0.0, 'genus': 0.0, 'Procnias': 0.0, 'bell-like': 0.0, 'call': 0.0, 'family': 0.0, 'Cotingidae': 0.0, 'cotingas': 0.0, 'scaly': 0.0, 'anteater': 0.0, 'mammal': 0.0, 'order': 0.0, 'Pholidota': 0.0, 'Africa': 0.0, 'S': 0.0, 'Asia': 0.0, 'Indonesia': 0.0, 'body': 0.0, 'horny': 0.0, 'scales': 0.0, 'long': 0.0, 'snout': 0.0, 'ants': 0.0, 'termites': 0.0, 'gnu': 0.0, 'large': 0.0004, 'African': 0.0, 'deer': 0.0, 'pelican': 0.0, 'type': 0.0, 'water': 0.0, 'bird': 0.0, 'fish': 0.0, 'bottom': 0.0, 'part': 0.0, 'beak': 0.0, 'bag': 0.0, 'quail': 0.0, 'small': 0.0, 'shot': 0.0, 'eaten': 0.0}\n3: my turn\nLiar is player3\nLiar is player3\nThe answer is zebra.\n"
     ]
    }
   ],
   "source": [
    "player1.resetTable()\n",
    "player2.resetTable()\n",
    "liar.resetTable()\n",
    "\n",
    "player1.myTurn()\n",
    "player2.others('It is fast.', 1)\n",
    "liar.others('It is fast.')\n",
    "\n",
    "player1.others('It has mane in its back.', 2)\n",
    "player2.myTurn()\n",
    "liar.others('It has mane in its back.')\n",
    "\n",
    "player1.others('It lives in the sea.', 3)\n",
    "player2.others('It lives in the sea.', 3)\n",
    "liar.myTurn()\n",
    "\n",
    "player1.myTurn()\n",
    "player2.others('It has four legs.', 1)\n",
    "liar.others('It has four legs.')\n",
    "\n",
    "player1.others('It has hoof in its feet.', 2)\n",
    "player2.myTurn()\n",
    "liar.others('It has hoof in its feet.')\n",
    "\n",
    "player1.others('It is big.', 3)\n",
    "player2.others('It is big.', 3)\n",
    "liar.myTurn()\n",
    "\n",
    "player1.endofGame()\n",
    "player2.endofGame()\n",
    "liar.endofGame()"
   ]
  },
  {
   "cell_type": "code",
   "execution_count": 51,
   "metadata": {},
   "outputs": [
    {
     "output_type": "execute_result",
     "data": {
      "text/plain": [
       "[[('A', 'DT'), ('horse', 'NN')],\n",
       " [('a', 'DT'), ('large', 'JJ'), ('animal', 'NN')],\n",
       " [('people', 'NNS')],\n",
       " [('Some', 'DT'), ('horses', 'NNS')],\n",
       " [('ploughs', 'NNS')],\n",
       " [('carts', 'NNS')]]"
      ]
     },
     "metadata": {},
     "execution_count": 51
    }
   ],
   "source": [
    "liar.wordtable.DEF['horse']['NPs']"
   ]
  },
  {
   "cell_type": "code",
   "execution_count": null,
   "metadata": {},
   "outputs": [],
   "source": []
  }
 ]
}