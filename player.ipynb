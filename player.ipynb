{
 "metadata": {
  "language_info": {
   "codemirror_mode": {
    "name": "ipython",
    "version": 3
   },
   "file_extension": ".py",
   "mimetype": "text/x-python",
   "name": "python",
   "nbconvert_exporter": "python",
   "pygments_lexer": "ipython3",
   "version": "3.8.5"
  },
  "orig_nbformat": 2,
  "kernelspec": {
   "name": "python385jvsc74a57bd08235b21b7e4ccb1a631c75a86bc50b1a38dfb6faace30e871c40999987116d9b",
   "display_name": "Python 3.8.5 64-bit ('base': conda)"
  }
 },
 "nbformat": 4,
 "nbformat_minor": 2,
 "cells": [
  {
   "cell_type": "code",
   "execution_count": 1,
   "metadata": {},
   "outputs": [],
   "source": [
    "from word_association import WordTable"
   ]
  },
  {
   "cell_type": "code",
   "execution_count": 2,
   "metadata": {},
   "outputs": [],
   "source": [
    "class Liar():\n",
    "    def __init__(self, topic, suggestions, players=3, play_num=3):\n",
    "\n",
    "        self.topic = topic\n",
    "        self.suggestions = suggestions\n",
    "        self.players = players\n",
    "        self.play_num = play_num\n",
    "        self.round = 1\n",
    "\n",
    "        self.wordtable = WordTable(category=topic, wordlist=suggestions)\n",
    "\n",
    "    def my_turn(self):\n",
    "        sorted_score = sorted(self.wordtable.score.items() , key = lambda x:x[1])\n",
    "        print(sorted_score)\n",
    "\n",
    "    def others(self, description):\n",
    "        self.wordtable.sentenceScore(description)\n"
   ]
  },
  {
   "cell_type": "code",
   "execution_count": 3,
   "metadata": {},
   "outputs": [],
   "source": [
    "topic = 'animals'\n",
    "suggestions = ['bellbird', 'pangolin', 'gnu', 'horse', 'pelican', 'quail', 'salamander', 'greenland shark', 'gecko', 'oriole', 'zebra', 'sperm whale', 'plover', 'elephant seal', 'albatross', 'macaw', 'junco', 'eel', 'woodpecker', 'corn snake', 'tiger', 'ray', 'rooster', 'dog', 'hawk']\n",
    "liar = Liar(topic, suggestions)"
   ]
  },
  {
   "cell_type": "code",
   "execution_count": 6,
   "metadata": {},
   "outputs": [
    {
     "output_type": "stream",
     "name": "stdout",
     "text": [
      "[('bellbird', 0), ('gnu', 0), ('horse', 0), ('pelican', 0), ('greenland shark', 0), ('oriole', 0), ('zebra', 0), ('sperm whale', 0), ('elephant seal', 0), ('albatross', 0), ('macaw', 0), ('junco', 0), ('eel', 0), ('woodpecker', 0), ('corn snake', 0), ('tiger', 0), ('ray', 0), ('rooster', 0), ('hawk', 0), ('salamander', 0.06), ('gecko', 0.13), ('quail', 0.17), ('pangolin', 1), ('plover', 1), ('dog', 2.09)]\n"
     ]
    }
   ],
   "source": [
    "liar.others(\"It is really small and cute.\")\n",
    "liar.others(\"It has fur in its whole body.\")\n",
    "liar.others(\"People raise it as a pet.\")\n",
    "liar.my_turn()"
   ]
  },
  {
   "cell_type": "code",
   "execution_count": 5,
   "metadata": {},
   "outputs": [
    {
     "output_type": "error",
     "ename": "SyntaxError",
     "evalue": "unexpected EOF while parsing (<ipython-input-5-c3a0813a47e3>, line 2)",
     "traceback": [
      "\u001b[0;36m  File \u001b[0;32m\"<ipython-input-5-c3a0813a47e3>\"\u001b[0;36m, line \u001b[0;32m2\u001b[0m\n\u001b[0;31m    \u001b[0m\n\u001b[0m    ^\u001b[0m\n\u001b[0;31mSyntaxError\u001b[0m\u001b[0;31m:\u001b[0m unexpected EOF while parsing\n"
     ]
    }
   ],
   "source": [
    "class Player():\n",
    "    "
   ]
  }
 ]
}