{
 "metadata": {
  "language_info": {
   "codemirror_mode": {
    "name": "ipython",
    "version": 3
   },
   "file_extension": ".py",
   "mimetype": "text/x-python",
   "name": "python",
   "nbconvert_exporter": "python",
   "pygments_lexer": "ipython3",
   "version": "3.8.5"
  },
  "orig_nbformat": 2,
  "kernelspec": {
   "name": "python385jvsc74a57bd08235b21b7e4ccb1a631c75a86bc50b1a38dfb6faace30e871c40999987116d9b",
   "display_name": "Python 3.8.5 64-bit ('base': conda)"
  },
  "metadata": {
   "interpreter": {
    "hash": "38e31c96aac6b52bfd92a03a517d6944ec75782017e4445807e0cb0d41655b05"
   }
  }
 },
 "nbformat": 4,
 "nbformat_minor": 2,
 "cells": [
  {
   "cell_type": "code",
   "execution_count": 5,
   "metadata": {},
   "outputs": [],
   "source": [
    "import nltk"
   ]
  },
  {
   "cell_type": "code",
   "execution_count": 6,
   "metadata": {},
   "outputs": [],
   "source": [
    "raw = \"Her Santa Fe Opera debut in 2005 was as Nuria in the revised edition of Golijov's Ainadamar. She sang on the subsequent Deutsche Grammophon recording of the opera. For his opera Doctor Atomic, Adams rewrote the role of Kitty Oppenheimer, originally a mezzo-soprano role, for soprano voice, and Rivera sang the rewritten part of Kitty Oppenheimer at Lyric Opera of Chicago, De Nederlandse Opera, and the Metropolitan Opera., all in 2007. She has since sung several parts and roles in John Adams' works, including the soprano part in El Ni*o, and the role of Kumudha in A Flowering Tree in the Peter Sellars production at the New Crowned Hope Festival in Vienna.\""
   ]
  },
  {
   "cell_type": "code",
   "execution_count": 30,
   "metadata": {},
   "outputs": [
    {
     "output_type": "stream",
     "name": "stdout",
     "text": [
      "[['Her', 'Santa', 'Fe', 'Opera', 'debut', 'in', '2005', 'was', 'as', 'Nuria', 'in', 'the', 'revised', 'edition', 'of', 'Golijov', \"'s\", 'Ainadamar', '.'], ['She', 'sang', 'on', 'the', 'subsequent', 'Deutsche', 'Grammophon', 'recording', 'of', 'the', 'opera', '.'], ['For', 'his', 'opera', 'Doctor', 'Atomic', ',', 'Adams', 'rewrote', 'the', 'role', 'of', 'Kitty', 'Oppenheimer', ',', 'originally', 'a', 'mezzo-soprano', 'role', ',', 'for', 'soprano', 'voice', ',', 'and', 'Rivera', 'sang', 'the', 'rewritten', 'part', 'of', 'Kitty', 'Oppenheimer', 'at', 'Lyric', 'Opera', 'of', 'Chicago', ',', 'De', 'Nederlandse', 'Opera', ',', 'and', 'the', 'Metropolitan', 'Opera.', ',', 'all', 'in', '2007', '.'], ['She', 'has', 'since', 'sung', 'several', 'parts', 'and', 'roles', 'in', 'John', 'Adams', \"'\", 'works', ',', 'including', 'the', 'soprano', 'part', 'in', 'El', 'Ni', '*', 'o', ',', 'and', 'the', 'role', 'of', 'Kumudha', 'in', 'A', 'Flowering', 'Tree', 'in', 'the', 'Peter', 'Sellars', 'production', 'at', 'the', 'New', 'Crowned', 'Hope', 'Festival', 'in', 'Vienna', '.']]\n"
     ]
    }
   ],
   "source": [
    "sents = [nltk.word_tokenize(sent) for sent in nltk.sent_tokenize(raw)]\n",
    "tagged_sents = [nltk.pos_tag(sent) for sent in sents]\n",
    "print(sents)"
   ]
  },
  {
   "cell_type": "code",
   "execution_count": 56,
   "metadata": {},
   "outputs": [],
   "source": [
    "def parse_sent(sent):\n",
    "    token_sent = nltk.word_tokenize(sent)\n",
    "    tagged_sent = nltk.pos_tag(token_sent)\n",
    "\n",
    "    print(tagged_sent)\n",
    "\n",
    "    I_words = [word for word, tag in tagged_sent if tag.startswith('IN') or tag.startswith('TO')]\n",
    "    PN_words = [word for word, tag in tagged_sent if tag.startswith('NNP')]\n",
    "    N_words = [word for word, tag in tagged_sent if tag.startswith('NN') and not tag.startswith('NNP')]\n",
    "    V_words = [word for word, tag in tagged_sent if tag.startswith('V')]\n",
    "    DT_words = [word for word, tag in tagged_sent if tag.startswith('DT')]\n",
    "    PRS_words = [word for word, tag in tagged_sent if tag.startswith('PR') and tag.endswith('$')] \n",
    "    PR_words = [word for word, tag in tagged_sent if tag.startswith('PR') and not tag.endswith('$')]\n",
    "    J_words = [word for word, tag in tagged_sent if tag.startswith('JJ') or tag.startswith('VBG')]\n",
    "    CD_words = [word for word, tag in tagged_sent if tag.startswith('CD')]\n",
    "    CC_words = [word for word, tag in tagged_sent if tag.startswith('CC')]\n",
    "    R_words = [word for word, tag in tagged_sent if tag.startswith('RB')]\n",
    "    PS_words = [word for word, tag in tagged_sent if tag.startswith('POS')]\n",
    "\n",
    "    def list2str(l):\n",
    "        if len(l) == 0:\n",
    "            return 'N/A'\n",
    "        return '\"' + '\" | \"'.join(set(l)) + '\"'\n",
    "\n",
    "    DT= list2str(DT_words)\n",
    "    I = list2str(I_words)\n",
    "    N = list2str(N_words)\n",
    "    PN = list2str(PN_words)\n",
    "    V = list2str(V_words)\n",
    "    PR= list2str(PR_words)\n",
    "    PRS=list2str(PRS_words)\n",
    "    J = list2str(J_words)\n",
    "    R = list2str(R_words)\n",
    "    CD= list2str(CD_words)\n",
    "    CC= list2str(CC_words)\n",
    "    PS= list2str(PS_words)   \n",
    "\n",
    "    S_pattern = \"NP VP '.' | PR VP '.' | PN VP '.'\" + \\\n",
    "                \" | PP ',' NP VP '.' | PP ',' PN VP '.' | PP PR VP '.' | PP PR VP ',' CC VP '.'\"\n",
    "    PP_pattern = \"I NP | I CD | I clause\"\n",
    "    NP_pattern = \"N PP\" + \\\n",
    "                 \" | DT N | DT PN | DT N PP | DT J N | DT J N PP | DT J NP N PP\" + \\\n",
    "                 \" | PRS N PN | PRS N PP | PRS NP N PP | PRS N NP\" + \\\n",
    "                 \" | J N | J N PP\" + \\\n",
    "                 \" | PN PN | PN PN PN | PN PS PN | PN PP\" + \\\n",
    "                 \" | NP PP | NP N PP\" + \\\n",
    "                 \" | NP ',' RP ','\"\n",
    "    VP_pattern = \"V NP PP | V NP | V R I PN | V I NP\"\n",
    "    RP_pattern = \"R NP\"\n",
    "    clause = \"PR VP | PP PR VP\"\n",
    "\n",
    "    grammar1 = nltk.CFG.fromstring(f\"\"\"\n",
    "        S  -> {S_pattern}\n",
    "        PP -> {PP_pattern}\n",
    "        NP -> {NP_pattern}\n",
    "        VP -> {VP_pattern}\n",
    "        RP -> {RP_pattern}\n",
    "        clause -> {clause}\n",
    "\n",
    "        DT -> {DT}\n",
    "        I -> {I}\n",
    "        N -> {N}\n",
    "        PN -> {PN}\n",
    "        V -> {V}\n",
    "        J -> {J}\n",
    "        R -> {R}\n",
    "        PR -> {PR}\n",
    "        PRS -> {PRS}\n",
    "        CD -> {CD}\n",
    "        CC -> {CC}\n",
    "        PS -> {PS}\n",
    "    \"\"\")\n",
    "\n",
    "    parser = nltk.ChartParser(grammar1)\n",
    "    for tree in parser.parse(token_sent):\n",
    "        print(tree, end='\\n\\n')"
   ]
  },
  {
   "cell_type": "code",
   "execution_count": 57,
   "metadata": {},
   "outputs": [
    {
     "output_type": "stream",
     "name": "stdout",
     "text": [
      "[('Her', 'PRP$'), ('Santa', 'NNP'), ('Fe', 'NNP'), ('Opera', 'NNP'), ('debut', 'NN'), ('in', 'IN'), ('2005', 'CD'), ('was', 'VBD'), ('as', 'IN'), ('Nuria', 'NNP'), ('in', 'IN'), ('the', 'DT'), ('revised', 'JJ'), ('edition', 'NN'), ('of', 'IN'), ('Golijov', 'NNP'), (\"'s\", 'POS'), ('Ainadamar', 'NNP'), ('.', '.')]\n(S\n  (NP\n    (PRS Her)\n    (NP (PN Santa) (PN Fe) (PN Opera))\n    (N debut)\n    (PP (I in) (CD 2005)))\n  (VP\n    (V was)\n    (I as)\n    (NP\n      (NP\n        (PN Nuria)\n        (PP (I in) (NP (DT the) (J revised) (N edition))))\n      (PP (I of) (NP (PN Golijov) (PS 's) (PN Ainadamar)))))\n  .)\n\n(S\n  (NP\n    (PRS Her)\n    (NP (PN Santa) (PN Fe) (PN Opera))\n    (N debut)\n    (PP (I in) (CD 2005)))\n  (VP\n    (V was)\n    (I as)\n    (NP\n      (PN Nuria)\n      (PP\n        (I in)\n        (NP\n          (NP (DT the) (J revised) (N edition))\n          (PP (I of) (NP (PN Golijov) (PS 's) (PN Ainadamar)))))))\n  .)\n\n(S\n  (NP\n    (PRS Her)\n    (NP (PN Santa) (PN Fe) (PN Opera))\n    (N debut)\n    (PP (I in) (CD 2005)))\n  (VP\n    (V was)\n    (I as)\n    (NP\n      (PN Nuria)\n      (PP\n        (I in)\n        (NP\n          (DT the)\n          (J revised)\n          (N edition)\n          (PP (I of) (NP (PN Golijov) (PS 's) (PN Ainadamar)))))))\n  .)\n\n"
     ]
    }
   ],
   "source": [
    "parse_sent(\"Her Santa Fe Opera debut in 2005 was as Nuria in the revised edition of Golijov's Ainadamar.\")"
   ]
  },
  {
   "cell_type": "code",
   "execution_count": 58,
   "metadata": {},
   "outputs": [
    {
     "output_type": "stream",
     "name": "stdout",
     "text": [
      "[('She', 'PRP'), ('sang', 'VBD'), ('on', 'IN'), ('the', 'DT'), ('subsequent', 'JJ'), ('Deutsche', 'NNP'), ('Grammophon', 'NNP'), ('recording', 'NN'), ('of', 'IN'), ('the', 'DT'), ('opera', 'NN'), ('.', '.')]\n(S\n  (PR She)\n  (VP\n    (V sang)\n    (I on)\n    (NP\n      (DT the)\n      (J subsequent)\n      (NP (PN Deutsche) (PN Grammophon))\n      (N recording)\n      (PP (I of) (NP (DT the) (N opera)))))\n  .)\n\n"
     ]
    }
   ],
   "source": [
    "parse_sent(\"She sang on the subsequent Deutsche Grammophon recording of the opera.\")"
   ]
  },
  {
   "cell_type": "code",
   "execution_count": 59,
   "metadata": {},
   "outputs": [
    {
     "output_type": "stream",
     "name": "stdout",
     "text": [
      "[('For', 'IN'), ('his', 'PRP$'), ('opera', 'NN'), ('Doctor', 'NNP'), ('Atomic', 'NNP'), (',', ','), ('Adams', 'NNP'), ('rewrote', 'VBP'), ('the', 'DT'), ('role', 'NN'), ('of', 'IN'), ('Kitty', 'NNP'), ('Oppenheimer', 'NNP'), (',', ','), ('originally', 'RB'), ('a', 'DT'), ('mezzo-soprano', 'JJ'), ('role', 'NN'), (',', ','), ('for', 'IN'), ('soprano', 'JJ'), ('voice', 'NN'), ('.', '.')]\n(S\n  (PP (I For) (NP (PRS his) (N opera) (NP (PN Doctor) (PN Atomic))))\n  ,\n  (PN Adams)\n  (VP\n    (V rewrote)\n    (NP\n      (NP (DT the) (N role))\n      (PP\n        (I of)\n        (NP\n          (NP (PN Kitty) (PN Oppenheimer))\n          ,\n          (RP (R originally) (NP (DT a) (J mezzo-soprano) (N role)))\n          ,)))\n    (PP (I for) (NP (J soprano) (N voice))))\n  .)\n\n(S\n  (PP (I For) (NP (PRS his) (N opera) (NP (PN Doctor) (PN Atomic))))\n  ,\n  (PN Adams)\n  (VP\n    (V rewrote)\n    (NP\n      (DT the)\n      (N role)\n      (PP\n        (I of)\n        (NP\n          (NP (PN Kitty) (PN Oppenheimer))\n          ,\n          (RP (R originally) (NP (DT a) (J mezzo-soprano) (N role)))\n          ,)))\n    (PP (I for) (NP (J soprano) (N voice))))\n  .)\n\n(S\n  (PP (I For) (NP (PRS his) (N opera) (NP (PN Doctor) (PN Atomic))))\n  ,\n  (PN Adams)\n  (VP\n    (V rewrote)\n    (NP\n      (NP\n        (NP (DT the) (N role))\n        (PP (I of) (NP (PN Kitty) (PN Oppenheimer))))\n      ,\n      (RP (R originally) (NP (DT a) (J mezzo-soprano) (N role)))\n      ,)\n    (PP (I for) (NP (J soprano) (N voice))))\n  .)\n\n(S\n  (PP (I For) (NP (PRS his) (N opera) (NP (PN Doctor) (PN Atomic))))\n  ,\n  (PN Adams)\n  (VP\n    (V rewrote)\n    (NP\n      (NP\n        (DT the)\n        (N role)\n        (PP (I of) (NP (PN Kitty) (PN Oppenheimer))))\n      ,\n      (RP (R originally) (NP (DT a) (J mezzo-soprano) (N role)))\n      ,)\n    (PP (I for) (NP (J soprano) (N voice))))\n  .)\n\n(S\n  (PP (I For) (NP (PRS his) (N opera) (NP (PN Doctor) (PN Atomic))))\n  ,\n  (PN Adams)\n  (VP\n    (V rewrote)\n    (NP (DT the) (N role))\n    (PP\n      (I of)\n      (NP\n        (NP\n          (NP (PN Kitty) (PN Oppenheimer))\n          ,\n          (RP (R originally) (NP (DT a) (J mezzo-soprano) (N role)))\n          ,)\n        (PP (I for) (NP (J soprano) (N voice))))))\n  .)\n\n(S\n  (PP (I For) (NP (PRS his) (N opera) (NP (PN Doctor) (PN Atomic))))\n  ,\n  (PN Adams)\n  (VP\n    (V rewrote)\n    (NP\n      (NP\n        (NP (DT the) (N role))\n        (PP\n          (I of)\n          (NP\n            (NP (PN Kitty) (PN Oppenheimer))\n            ,\n            (RP\n              (R originally)\n              (NP (DT a) (J mezzo-soprano) (N role)))\n            ,)))\n      (PP (I for) (NP (J soprano) (N voice)))))\n  .)\n\n(S\n  (PP (I For) (NP (PRS his) (N opera) (NP (PN Doctor) (PN Atomic))))\n  ,\n  (PN Adams)\n  (VP\n    (V rewrote)\n    (NP\n      (NP\n        (DT the)\n        (N role)\n        (PP\n          (I of)\n          (NP\n            (NP (PN Kitty) (PN Oppenheimer))\n            ,\n            (RP\n              (R originally)\n              (NP (DT a) (J mezzo-soprano) (N role)))\n            ,)))\n      (PP (I for) (NP (J soprano) (N voice)))))\n  .)\n\n(S\n  (PP (I For) (NP (PRS his) (N opera) (NP (PN Doctor) (PN Atomic))))\n  ,\n  (PN Adams)\n  (VP\n    (V rewrote)\n    (NP\n      (NP\n        (NP\n          (NP (DT the) (N role))\n          (PP (I of) (NP (PN Kitty) (PN Oppenheimer))))\n        ,\n        (RP (R originally) (NP (DT a) (J mezzo-soprano) (N role)))\n        ,)\n      (PP (I for) (NP (J soprano) (N voice)))))\n  .)\n\n(S\n  (PP (I For) (NP (PRS his) (N opera) (NP (PN Doctor) (PN Atomic))))\n  ,\n  (PN Adams)\n  (VP\n    (V rewrote)\n    (NP\n      (NP\n        (NP\n          (DT the)\n          (N role)\n          (PP (I of) (NP (PN Kitty) (PN Oppenheimer))))\n        ,\n        (RP (R originally) (NP (DT a) (J mezzo-soprano) (N role)))\n        ,)\n      (PP (I for) (NP (J soprano) (N voice)))))\n  .)\n\n(S\n  (PP (I For) (NP (PRS his) (N opera) (NP (PN Doctor) (PN Atomic))))\n  ,\n  (PN Adams)\n  (VP\n    (V rewrote)\n    (NP\n      (NP (DT the) (N role))\n      (PP\n        (I of)\n        (NP\n          (NP\n            (NP (PN Kitty) (PN Oppenheimer))\n            ,\n            (RP\n              (R originally)\n              (NP (DT a) (J mezzo-soprano) (N role)))\n            ,)\n          (PP (I for) (NP (J soprano) (N voice)))))))\n  .)\n\n(S\n  (PP (I For) (NP (PRS his) (N opera) (NP (PN Doctor) (PN Atomic))))\n  ,\n  (PN Adams)\n  (VP\n    (V rewrote)\n    (NP\n      (DT the)\n      (N role)\n      (PP\n        (I of)\n        (NP\n          (NP\n            (NP (PN Kitty) (PN Oppenheimer))\n            ,\n            (RP\n              (R originally)\n              (NP (DT a) (J mezzo-soprano) (N role)))\n            ,)\n          (PP (I for) (NP (J soprano) (N voice)))))))\n  .)\n\n"
     ]
    },
    {
     "output_type": "execute_result",
     "data": {
      "text/plain": [
       "', and Rivera sang the rewritten part of Kitty Oppenheimer at Lyric Opera of Chicago, De Nederlandse Opera, and the Metropolitan Opera., all in 2007'"
      ]
     },
     "metadata": {},
     "execution_count": 59
    }
   ],
   "source": [
    "parse_sent(\"For his opera Doctor Atomic, Adams rewrote the role of Kitty Oppenheimer, originally a mezzo-soprano role, for soprano voice.\")"
   ]
  },
  {
   "cell_type": "code",
   "execution_count": 60,
   "metadata": {},
   "outputs": [
    {
     "output_type": "stream",
     "name": "stdout",
     "text": [
      "[('Rivera', 'NNP'), ('sang', 'VBD'), ('the', 'DT'), ('rewritten', 'JJ'), ('part', 'NN'), ('of', 'IN'), ('Kitty', 'NNP'), ('Oppenheimer', 'NNP'), ('at', 'IN'), ('Lyric', 'NNP'), ('Opera', 'NNP'), ('of', 'IN'), ('Chicago', 'NNP'), (',', ','), ('De', 'NNP'), ('Nederlandse', 'NNP'), ('Opera', 'NNP'), (',', ','), ('and', 'CC'), ('the', 'DT'), ('Metropolitan', 'NNP'), ('Opera.', 'NNP'), (',', ','), ('all', 'DT'), ('in', 'IN'), ('2007', 'CD')]\n"
     ]
    }
   ],
   "source": [
    "parse_sent(\"Rivera sang the rewritten part of Kitty Oppenheimer at Lyric Opera of Chicago, De Nederlandse Opera, and the Metropolitan Opera., all in 2007\")"
   ]
  },
  {
   "cell_type": "code",
   "execution_count": 48,
   "metadata": {},
   "outputs": [
    {
     "output_type": "stream",
     "name": "stdout",
     "text": [
      "[('After', 'IN'), ('he', 'PRP'), ('became', 'VBD'), ('a', 'DT'), ('minister', 'NN'), ('he', 'PRP'), ('went', 'VBD'), ('back', 'RB'), ('to', 'TO'), ('Amsterdam', 'NNP'), (',', ','), ('and', 'CC'), ('took', 'VBD'), ('place', 'NN'), ('as', 'IN'), ('a', 'DT'), ('sort', 'NN'), ('of', 'IN'), ('chairing', 'VBG'), ('mayor', 'NN'), ('of', 'IN'), ('this', 'DT'), ('city', 'NN'), ('.', '.')]\n(S\n  (PP\n    (I After)\n    (clause (PR he) (VP (V became) (NP (DT a) (N minister)))))\n  (PR he)\n  (VP (V went) (R back) (I to) (PN Amsterdam))\n  ,\n  (CC and)\n  (VP\n    (V took)\n    (NP\n      (N place)\n      (PP\n        (I as)\n        (NP\n          (NP\n            (NP (DT a) (N sort))\n            (PP (I of) (NP (J chairing) (N mayor))))\n          (PP (I of) (NP (DT this) (N city)))))))\n  .)\n\n(S\n  (PP\n    (I After)\n    (clause (PR he) (VP (V became) (NP (DT a) (N minister)))))\n  (PR he)\n  (VP (V went) (R back) (I to) (PN Amsterdam))\n  ,\n  (CC and)\n  (VP\n    (V took)\n    (NP\n      (N place)\n      (PP\n        (I as)\n        (NP\n          (NP\n            (DT a)\n            (N sort)\n            (PP (I of) (NP (J chairing) (N mayor))))\n          (PP (I of) (NP (DT this) (N city)))))))\n  .)\n\n(S\n  (PP\n    (I After)\n    (clause (PR he) (VP (V became) (NP (DT a) (N minister)))))\n  (PR he)\n  (VP (V went) (R back) (I to) (PN Amsterdam))\n  ,\n  (CC and)\n  (VP\n    (V took)\n    (NP\n      (N place)\n      (PP\n        (I as)\n        (NP\n          (NP (DT a) (N sort))\n          (PP\n            (I of)\n            (NP\n              (NP (J chairing) (N mayor))\n              (PP (I of) (NP (DT this) (N city)))))))))\n  .)\n\n(S\n  (PP\n    (I After)\n    (clause (PR he) (VP (V became) (NP (DT a) (N minister)))))\n  (PR he)\n  (VP (V went) (R back) (I to) (PN Amsterdam))\n  ,\n  (CC and)\n  (VP\n    (V took)\n    (NP\n      (N place)\n      (PP\n        (I as)\n        (NP\n          (NP (DT a) (N sort))\n          (PP\n            (I of)\n            (NP\n              (J chairing)\n              (N mayor)\n              (PP (I of) (NP (DT this) (N city)))))))))\n  .)\n\n(S\n  (PP\n    (I After)\n    (clause (PR he) (VP (V became) (NP (DT a) (N minister)))))\n  (PR he)\n  (VP (V went) (R back) (I to) (PN Amsterdam))\n  ,\n  (CC and)\n  (VP\n    (V took)\n    (NP\n      (N place)\n      (PP\n        (I as)\n        (NP\n          (DT a)\n          (N sort)\n          (PP\n            (I of)\n            (NP\n              (NP (J chairing) (N mayor))\n              (PP (I of) (NP (DT this) (N city)))))))))\n  .)\n\n(S\n  (PP\n    (I After)\n    (clause (PR he) (VP (V became) (NP (DT a) (N minister)))))\n  (PR he)\n  (VP (V went) (R back) (I to) (PN Amsterdam))\n  ,\n  (CC and)\n  (VP\n    (V took)\n    (NP\n      (N place)\n      (PP\n        (I as)\n        (NP\n          (DT a)\n          (N sort)\n          (PP\n            (I of)\n            (NP\n              (J chairing)\n              (N mayor)\n              (PP (I of) (NP (DT this) (N city)))))))))\n  .)\n\n(S\n  (PP\n    (I After)\n    (clause (PR he) (VP (V became) (NP (DT a) (N minister)))))\n  (PR he)\n  (VP (V went) (R back) (I to) (PN Amsterdam))\n  ,\n  (CC and)\n  (VP\n    (V took)\n    (NP\n      (NP\n        (NP (N place) (PP (I as) (NP (DT a) (N sort))))\n        (PP (I of) (NP (J chairing) (N mayor))))\n      (PP (I of) (NP (DT this) (N city)))))\n  .)\n\n(S\n  (PP\n    (I After)\n    (clause (PR he) (VP (V became) (NP (DT a) (N minister)))))\n  (PR he)\n  (VP (V went) (R back) (I to) (PN Amsterdam))\n  ,\n  (CC and)\n  (VP\n    (V took)\n    (NP\n      (NP\n        (N place)\n        (PP\n          (I as)\n          (NP\n            (NP (DT a) (N sort))\n            (PP (I of) (NP (J chairing) (N mayor))))))\n      (PP (I of) (NP (DT this) (N city)))))\n  .)\n\n(S\n  (PP\n    (I After)\n    (clause (PR he) (VP (V became) (NP (DT a) (N minister)))))\n  (PR he)\n  (VP (V went) (R back) (I to) (PN Amsterdam))\n  ,\n  (CC and)\n  (VP\n    (V took)\n    (NP\n      (NP\n        (N place)\n        (PP\n          (I as)\n          (NP\n            (DT a)\n            (N sort)\n            (PP (I of) (NP (J chairing) (N mayor))))))\n      (PP (I of) (NP (DT this) (N city)))))\n  .)\n\n(S\n  (PP\n    (I After)\n    (clause (PR he) (VP (V became) (NP (DT a) (N minister)))))\n  (PR he)\n  (VP (V went) (R back) (I to) (PN Amsterdam))\n  ,\n  (CC and)\n  (VP\n    (V took)\n    (NP\n      (NP (N place) (PP (I as) (NP (DT a) (N sort))))\n      (PP\n        (I of)\n        (NP\n          (NP (J chairing) (N mayor))\n          (PP (I of) (NP (DT this) (N city)))))))\n  .)\n\n(S\n  (PP\n    (I After)\n    (clause (PR he) (VP (V became) (NP (DT a) (N minister)))))\n  (PR he)\n  (VP (V went) (R back) (I to) (PN Amsterdam))\n  ,\n  (CC and)\n  (VP\n    (V took)\n    (NP\n      (NP (N place) (PP (I as) (NP (DT a) (N sort))))\n      (PP\n        (I of)\n        (NP\n          (J chairing)\n          (N mayor)\n          (PP (I of) (NP (DT this) (N city)))))))\n  .)\n\n(S\n  (PP\n    (I After)\n    (clause (PR he) (VP (V became) (NP (DT a) (N minister)))))\n  (PR he)\n  (VP (V went) (R back) (I to) (PN Amsterdam))\n  ,\n  (CC and)\n  (VP\n    (V took)\n    (NP\n      (NP (N place) (PP (I as) (NP (DT a) (N sort))))\n      (PP (I of) (NP (J chairing) (N mayor))))\n    (PP (I of) (NP (DT this) (N city))))\n  .)\n\n(S\n  (PP\n    (I After)\n    (clause (PR he) (VP (V became) (NP (DT a) (N minister)))))\n  (PR he)\n  (VP (V went) (R back) (I to) (PN Amsterdam))\n  ,\n  (CC and)\n  (VP\n    (V took)\n    (NP\n      (N place)\n      (PP\n        (I as)\n        (NP\n          (NP (DT a) (N sort))\n          (PP (I of) (NP (J chairing) (N mayor))))))\n    (PP (I of) (NP (DT this) (N city))))\n  .)\n\n(S\n  (PP\n    (I After)\n    (clause (PR he) (VP (V became) (NP (DT a) (N minister)))))\n  (PR he)\n  (VP (V went) (R back) (I to) (PN Amsterdam))\n  ,\n  (CC and)\n  (VP\n    (V took)\n    (NP\n      (N place)\n      (PP\n        (I as)\n        (NP (DT a) (N sort) (PP (I of) (NP (J chairing) (N mayor))))))\n    (PP (I of) (NP (DT this) (N city))))\n  .)\n\n(S\n  (PP\n    (I After)\n    (clause (PR he) (VP (V became) (NP (DT a) (N minister)))))\n  (PR he)\n  (VP (V went) (R back) (I to) (PN Amsterdam))\n  ,\n  (CC and)\n  (VP\n    (V took)\n    (NP (N place) (PP (I as) (NP (DT a) (N sort))))\n    (PP\n      (I of)\n      (NP\n        (NP (J chairing) (N mayor))\n        (PP (I of) (NP (DT this) (N city))))))\n  .)\n\n(S\n  (PP\n    (I After)\n    (clause (PR he) (VP (V became) (NP (DT a) (N minister)))))\n  (PR he)\n  (VP (V went) (R back) (I to) (PN Amsterdam))\n  ,\n  (CC and)\n  (VP\n    (V took)\n    (NP (N place) (PP (I as) (NP (DT a) (N sort))))\n    (PP\n      (I of)\n      (NP (J chairing) (N mayor) (PP (I of) (NP (DT this) (N city))))))\n  .)\n\n"
     ]
    }
   ],
   "source": [
    "parse_sent(\"After he became a minister he went back to Amsterdam, and took place as a sort of chairing mayor of this city.\")"
   ]
  },
  {
   "cell_type": "code",
   "execution_count": 204,
   "metadata": {},
   "outputs": [],
   "source": [
    "small_grammar = nltk.CFG.fromstring(\"\"\"\n",
    "    S -> NP VP\n",
    "    VP -> V PR\n",
    "    NP -> 'I'\n",
    "    \n",
    "    PR -> 'you' | 'hate'\n",
    "    V -> 'hate' | 'you'\n",
    "\"\"\")"
   ]
  },
  {
   "cell_type": "code",
   "execution_count": 205,
   "metadata": {},
   "outputs": [],
   "source": [
    "small_parser = nltk.ChartParser(small_grammar)"
   ]
  },
  {
   "cell_type": "code",
   "execution_count": 206,
   "metadata": {},
   "outputs": [
    {
     "output_type": "stream",
     "name": "stdout",
     "text": [
      "(S (NP I) (VP (V hate) (PR you)))\n"
     ]
    }
   ],
   "source": [
    "for tree in small_parser.parse(['I', 'hate', 'you']):\n",
    "    print(tree)"
   ]
  },
  {
   "cell_type": "code",
   "execution_count": null,
   "metadata": {},
   "outputs": [],
   "source": []
  }
 ]
}