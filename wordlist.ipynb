{
 "metadata": {
  "language_info": {
   "codemirror_mode": {
    "name": "ipython",
    "version": 3
   },
   "file_extension": ".py",
   "mimetype": "text/x-python",
   "name": "python",
   "nbconvert_exporter": "python",
   "pygments_lexer": "ipython3",
   "version": "3.8.5"
  },
  "orig_nbformat": 2,
  "kernelspec": {
   "name": "python385jvsc74a57bd08235b21b7e4ccb1a631c75a86bc50b1a38dfb6faace30e871c40999987116d9b",
   "display_name": "Python 3.8.5 64-bit ('base': conda)"
  }
 },
 "nbformat": 4,
 "nbformat_minor": 2,
 "cells": [
  {
   "cell_type": "code",
   "execution_count": 8,
   "metadata": {},
   "outputs": [],
   "source": [
    "import urllib.request\n",
    "import requests\n",
    "from bs4 import BeautifulSoup\n",
    "import re\n",
    "from tqdm import tqdm"
   ]
  },
  {
   "cell_type": "code",
   "execution_count": 13,
   "metadata": {},
   "outputs": [],
   "source": [
    "import nltk\n",
    "from nltk.corpus import brown"
   ]
  },
  {
   "cell_type": "code",
   "execution_count": 68,
   "metadata": {},
   "outputs": [],
   "source": [
    "sports_url = \"https://www.enchantedlearning.com/wordlist/sports.shtml\"\n",
    "animals_url = \"https://www.enchantedlearning.com/wordlist/animals.shtml\"\n",
    "weapons_url = \"https://www.enchantedlearning.com/wordlist/weapons.shtml\"\n",
    "food_url = \"https://www.enchantedlearning.com/wordlist/food.shtml\"\n",
    "jobs_url = f\"https://www.enchantedlearning.com/wordlist/jobs.shtml\"\n",
    "nations_url = f\"https://www.worldometers.info/geography/alphabetical-list-of-countries/\"\n",
    "major_url = f\"http://www.act.org/content/act/en/research/reports/act-publications/college-choice-report-class-of-2013/college-majors-and-occupational-choices/college-majors-and-occupational-choices.html\"\n"
   ]
  },
  {
   "cell_type": "code",
   "execution_count": 121,
   "metadata": {},
   "outputs": [],
   "source": [
    "sports_word_list = []\n",
    "animals_word_list = []\n",
    "weapons_word_list = []\n",
    "food_word_list = []\n",
    "jobs_word_list = []\n",
    "nations_word_list = []\n",
    "major_word_list = []"
   ]
  },
  {
   "cell_type": "code",
   "execution_count": 78,
   "metadata": {
    "tags": []
   },
   "outputs": [],
   "source": [
    "sports_soup = BeautifulSoup(urllib.request.urlopen(sports_url))\n",
    "animals_soup = BeautifulSoup(urllib.request.urlopen(animals_url))\n",
    "weapons_soup = BeautifulSoup(urllib.request.urlopen(weapons_url))\n",
    "food_soup = BeautifulSoup(urllib.request.urlopen(food_url))\n",
    "jobs_soup = BeautifulSoup(requests.get(jobs_url).text, 'html.parser')"
   ]
  },
  {
   "cell_type": "code",
   "execution_count": 101,
   "metadata": {},
   "outputs": [],
   "source": [
    "nations_soup = BeautifulSoup(requests.get(nations_url).text, 'html.parser')"
   ]
  },
  {
   "cell_type": "code",
   "execution_count": 122,
   "metadata": {
    "tags": []
   },
   "outputs": [],
   "source": [
    "nation = population = None\n",
    "for td in nations_soup.find_all(\"td\"):\n",
    "    if td.attrs.get(\"style\") == \"font-weight: bold; font-size:15px\":\n",
    "        nation = td.text\n",
    "    elif td.attrs.get(\"style\") == \"font-weight: bold; text-align:right\":\n",
    "        population = td.text\n",
    "        nations_word_list.append((nation, population))\n"
   ]
  },
  {
   "cell_type": "code",
   "execution_count": 130,
   "metadata": {},
   "outputs": [],
   "source": [
    "for tag in sports_soup.find_all(\"div\", \"wordlist-item\"):\n",
    "    sports_word_list.append(tag.text)\n",
    "\n",
    "for tag in animals_soup.find_all(\"div\", \"wordlist-item\"):\n",
    "    animals_word_list.append(tag.text)\n",
    "\n",
    "for tag in weapons_soup.find_all(\"div\", \"wordlist-item\"):\n",
    "    weapons_word_list.append(tag.text)\n",
    "\n",
    "for tag in food_soup.find_all(\"div\", \"wordlist-item\"):\n",
    "    food_word_list.append(tag.text)\n",
    "\n",
    "for tag in jobs_soup.find_all(\"div\", \"wordlist-item\"):\n",
    "    jobs_word_list.append(tag.text)"
   ]
  },
  {
   "cell_type": "code",
   "execution_count": 55,
   "metadata": {},
   "outputs": [],
   "source": [
    "def word_crawling(word_list, topic):\n",
    "\n",
    "    word_filtered = []\n",
    "\n",
    "    for word in tqdm(word_list):\n",
    "        link = f\"https://www.britannica.com/search?query={word}\"\n",
    "        res = requests.get(link)\n",
    "        soup = BeautifulSoup(res.text, 'html.parser')\n",
    "        searches = soup.select(\"a.font-weight-bold\")\n",
    "    \n",
    "        candidates = []\n",
    "\n",
    "        for search in searches:\n",
    "            temp = re.search(r'(.*?)\\((.*?)\\)', search.text.strip())\n",
    "            if temp != None:\n",
    "                if temp.group(2) in topic:\n",
    "                    word_filtered.append(temp.group(1)[:-1])\n",
    "                    break\n",
    "\n",
    "    return word_filtered"
   ]
  },
  {
   "cell_type": "code",
   "execution_count": 33,
   "metadata": {},
   "outputs": [
    {
     "output_type": "execute_result",
     "data": {
      "text/plain": [
       "96"
      ]
     },
     "metadata": {},
     "execution_count": 33
    }
   ],
   "source": [
    "sports_word = set([word.lower() for word in word_crawling(animals_word_list, ['sport'])])"
   ]
  },
  {
   "cell_type": "code",
   "execution_count": 63,
   "metadata": {},
   "outputs": [
    {
     "output_type": "stream",
     "name": "stderr",
     "text": [
      "100%|██████████| 812/812 [22:53<00:00,  1.69s/it]\n"
     ]
    }
   ],
   "source": [
    "animals_word = set([word.lower() \n",
    "                    for word in word_crawling(animals_word_list, \n",
    "                                              ['domesticated mammal', 'mammal', 'fish', 'amphibian', 'reptile', 'bird'])\n",
    "                    ])"
   ]
  },
  {
   "cell_type": "code",
   "execution_count": 59,
   "metadata": {},
   "outputs": [
    {
     "output_type": "stream",
     "name": "stderr",
     "text": [
      "100%|██████████| 139/139 [04:05<00:00,  1.77s/it]\n"
     ]
    }
   ],
   "source": [
    "weapons_word = set([word.lower() for word in word_crawling(weapons_word_list, ['weapon'])])"
   ]
  },
  {
   "cell_type": "code",
   "execution_count": 132,
   "metadata": {},
   "outputs": [],
   "source": [
    "jobs_word = jobs_word_list\n",
    "foods_word = foods_word_list"
   ]
  },
  {
   "cell_type": "code",
   "execution_count": 128,
   "metadata": {},
   "outputs": [
    {
     "output_type": "stream",
     "name": "stdout",
     "text": [
      "129\n"
     ]
    }
   ],
   "source": [
    "nations_word = [nation for nation, population in nations_word_list if int(''.join(population.split(','))) > 4000000]\n",
    "print(len(nations_word))"
   ]
  },
  {
   "cell_type": "code",
   "execution_count": 38,
   "metadata": {},
   "outputs": [],
   "source": [
    "f = open('sports_word.txt', 'w')\n",
    "\n",
    "f.write('word length = {}\\n'.format(len(sports_word)))\n",
    "for word in sports_word:\n",
    "    f.write(word + '\\n')"
   ]
  },
  {
   "cell_type": "code",
   "execution_count": 62,
   "metadata": {},
   "outputs": [],
   "source": [
    "f = open('weapons_word.txt', 'w')\n",
    "\n",
    "f.write('word length = {}\\n'.format(len(weapons_word)))\n",
    "for word in weapons_word:\n",
    "    f.write(word + '\\n')"
   ]
  },
  {
   "cell_type": "code",
   "execution_count": 67,
   "metadata": {},
   "outputs": [],
   "source": [
    "f = open('animals_word.txt', 'w')\n",
    "\n",
    "f.write('word length = {}\\n'.format(len(animals_word)))\n",
    "for word in animals_word:\n",
    "    f.write(word + '\\n')"
   ]
  },
  {
   "cell_type": "code",
   "execution_count": 133,
   "metadata": {},
   "outputs": [],
   "source": [
    "f = open('jobs_word.txt', 'w')\n",
    "\n",
    "f.write('word length = {}\\n'.format(len(jobs_word)))\n",
    "for word in jobs_word:\n",
    "    f.write(word + '\\n')"
   ]
  },
  {
   "cell_type": "code",
   "execution_count": 135,
   "metadata": {},
   "outputs": [],
   "source": [
    "f = open('nations_word.txt', 'w')\n",
    "\n",
    "f.write('word length = {}\\n'.format(len(nations_word)))\n",
    "for word in nations_word:\n",
    "    f.write(word + '\\n')"
   ]
  },
  {
   "cell_type": "code",
   "execution_count": null,
   "metadata": {},
   "outputs": [],
   "source": [
    "f = open('foods_word.txt', 'w')\n",
    "\n",
    "f.write('word length = {}\\n'.format(len(foods_word)))\n",
    "for word in foods_word:\n",
    "    f.write(word + '\\n')"
   ]
  }
 ]
}