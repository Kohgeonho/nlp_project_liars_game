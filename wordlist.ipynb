{
 "metadata": {
  "language_info": {
   "codemirror_mode": {
    "name": "ipython",
    "version": 3
   },
   "file_extension": ".py",
   "mimetype": "text/x-python",
   "name": "python",
   "nbconvert_exporter": "python",
   "pygments_lexer": "ipython3",
   "version": "3.8.5"
  },
  "orig_nbformat": 2,
  "kernelspec": {
   "name": "python385jvsc74a57bd08235b21b7e4ccb1a631c75a86bc50b1a38dfb6faace30e871c40999987116d9b",
   "display_name": "Python 3.8.5 64-bit ('base': conda)"
  }
 },
 "nbformat": 4,
 "nbformat_minor": 2,
 "cells": [
  {
   "cell_type": "code",
   "execution_count": 7,
   "metadata": {},
   "outputs": [],
   "source": [
    "import urllib.request\n",
    "from bs4 import BeautifulSoup"
   ]
  },
  {
   "cell_type": "code",
   "execution_count": 23,
   "metadata": {},
   "outputs": [],
   "source": [
    "sports_url = \"https://www.enchantedlearning.com/wordlist/sports.shtml\"\n",
    "animals_url = \"https://www.enchantedlearning.com/wordlist/animals.shtml\"\n",
    "weapons_url = \"https://www.enchantedlearning.com/wordlist/weapons.shtml\""
   ]
  },
  {
   "cell_type": "code",
   "execution_count": 24,
   "metadata": {},
   "outputs": [],
   "source": [
    "sports_word_list = []\n",
    "animals_word_list = []\n",
    "weapons_word_list = []"
   ]
  },
  {
   "cell_type": "code",
   "execution_count": 25,
   "metadata": {
    "tags": []
   },
   "outputs": [],
   "source": [
    "sports_soup = BeautifulSoup(urllib.request.urlopen(sports_url))\n",
    "animals_soup = BeautifulSoup(urllib.request.urlopen(animals_url))\n",
    "weapons_soup = BeautifulSoup(urllib.request.urlopen(weapons_url))"
   ]
  },
  {
   "cell_type": "code",
   "execution_count": 26,
   "metadata": {},
   "outputs": [],
   "source": [
    "for tag in sports_soup.find_all(\"div\", \"wordlist-item\"):\n",
    "    sports_word_list.append(tag.text)\n",
    "\n",
    "for tag in animals_soup.find_all(\"div\", \"wordlist-item\"):\n",
    "    animals_word_list.append(tag.text)\n",
    "\n",
    "for tag in weapons_soup.find_all(\"div\", \"wordlist-item\"):\n",
    "    weapons_word_list.append(tag.text)"
   ]
  },
  {
   "cell_type": "code",
   "execution_count": 38,
   "metadata": {
    "tags": []
   },
   "outputs": [
    {
     "output_type": "stream",
     "name": "stdout",
     "text": [
      "ipment</div><div class=wordlist-item>exercise</div></div><div class=\"wordlist-section wordlist-secti\n"
     ]
    }
   ],
   "source": [
    "url = \"https://www.britannica.com/search?query={}\".format('aerobics')\n",
    "headers = {'User-Agent' : 'Chrome/66.0.3359.181'}\n",
    "req = urllib.request.Request(url, headers = headers)\n",
    "htmp = urllib.request.urlopen(req)\n",
    "#source = html.read()\n",
    "#html.close()\n",
    "html.index('exercise')\n",
    "print(html[11400:11500])"
   ]
  },
  {
   "cell_type": "code",
   "execution_count": null,
   "metadata": {},
   "outputs": [],
   "source": []
  }
 ]
}