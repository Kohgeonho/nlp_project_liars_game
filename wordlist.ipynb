{
 "metadata": {
  "language_info": {
   "codemirror_mode": {
    "name": "ipython",
    "version": 3
   },
   "file_extension": ".py",
   "mimetype": "text/x-python",
   "name": "python",
   "nbconvert_exporter": "python",
   "pygments_lexer": "ipython3",
   "version": "3.8.5"
  },
  "orig_nbformat": 2,
  "kernelspec": {
   "name": "python385jvsc74a57bd08235b21b7e4ccb1a631c75a86bc50b1a38dfb6faace30e871c40999987116d9b",
   "display_name": "Python 3.8.5 64-bit ('base': conda)"
  }
 },
 "nbformat": 4,
 "nbformat_minor": 2,
 "cells": [
  {
   "cell_type": "code",
   "execution_count": 8,
   "metadata": {},
   "outputs": [],
   "source": [
    "import urllib.request\n",
    "import requests\n",
    "from bs4 import BeautifulSoup\n",
    "import re\n",
    "from tqdm import tqdm"
   ]
  },
  {
   "cell_type": "code",
   "execution_count": 13,
   "metadata": {},
   "outputs": [],
   "source": [
    "import nltk\n",
    "from nltk.corpus import brown"
   ]
  },
  {
   "cell_type": "code",
   "execution_count": null,
   "metadata": {},
   "outputs": [],
   "source": [
    "sports_url = \"https://www.enchantedlearning.com/wordlist/sports.shtml\"\n",
    "animals_url = \"https://www.enchantedlearning.com/wordlist/animals.shtml\"\n",
    "weapons_url = \"https://www.enchantedlearning.com/wordlist/weapons.shtml\"\n",
    "food_url = \"https://www.enchantedlearning.com/wordlist/food.shtml\"\n",
    "jobs_url = \"https://www.enchantedlearning.com/wordlist/jobs.shtml\"\n",
    "nations_url = \"https://www.worldometers.info/geography/alphabetical-list-of-countries/\"\n",
    "major_url = \"http://www.act.org/content/act/en/research/reports/act-publications/college-choice-report-class-of-2013/college-majors-and-occupational-choices/college-majors-and-occupational-choices.html\"\n"
   ]
  },
  {
   "cell_type": "code",
   "execution_count": 3,
   "metadata": {},
   "outputs": [],
   "source": [
    "sports_word_list = []\n",
    "animals_word_list = []\n",
    "weapons_word_list = []\n",
    "food_word_list = []\n",
    "jobs_word_list = []\n",
    "nations_word_list = []\n",
    "major_word_list = []"
   ]
  },
  {
   "cell_type": "code",
   "execution_count": 4,
   "metadata": {
    "tags": []
   },
   "outputs": [],
   "source": [
    "sports_soup = BeautifulSoup(urllib.request.urlopen(sports_url))\n",
    "animals_soup = BeautifulSoup(urllib.request.urlopen(animals_url))\n",
    "weapons_soup = BeautifulSoup(urllib.request.urlopen(weapons_url))\n",
    "food_soup = BeautifulSoup(urllib.request.urlopen(food_url))\n",
    "jobs_url = BeautifulSoup(urllib.request.urlopen(jobs_url))\n"
   ]
  },
  {
   "cell_type": "code",
   "execution_count": 5,
   "metadata": {},
   "outputs": [],
   "source": [
    "for tag in sports_soup.find_all(\"div\", \"wordlist-item\"):\n",
    "    sports_word_list.append(tag.text)\n",
    "\n",
    "for tag in animals_soup.find_all(\"div\", \"wordlist-item\"):\n",
    "    animals_word_list.append(tag.text)\n",
    "\n",
    "for tag in weapons_soup.find_all(\"div\", \"wordlist-item\"):\n",
    "    weapons_word_list.append(tag.text)\n",
    "\n",
    "for tag in food_soup.find.all(\"div\", \"wordlist-item\"):\n",
    "    food_word_list.append(tag.text)\n",
    "\n",
    "for tag in jobs_soup.find.all(\"div\", \"wordlist-item\"):\n",
    "    jobs_word_list.append(tag.text)"
   ]
  },
  {
   "cell_type": "code",
   "execution_count": null,
   "metadata": {},
   "outputs": [],
   "source": []
  },
  {
   "cell_type": "code",
   "execution_count": 40,
   "metadata": {},
   "outputs": [
    {
     "output_type": "stream",
     "name": "stdout",
     "text": [
      "['aardvark', 'abalone', 'African elephant', 'African gray parrot', 'African penguin', 'African rock python', 'African wild cat', 'agouti', 'airedale terrier', 'Alaskan malamute', 'albatross', 'algae', 'alligator', 'alpaca', 'American bison', 'American cocker spaniel', 'American crocodile', 'American flamingo', 'American golden plover', 'American Robin', 'American tree sparrow', 'amoeba', 'amphibian', 'anaconda', 'angelfish', 'angelshark', 'angonoka', 'animal', 'anole', 'ant', 'anteater', 'antelope', 'Apatosaurus', 'ape', 'aphid', 'arachnid', 'Archaeopteryx', 'arctic fox', 'Arctic tern', 'arctic wolf', 'armadillo', 'Arsinoitherium', 'arthropod', 'artiodactyls', 'asp', 'assassin bug', 'aye-aye', 'baboon', 'bactrian camel', 'badger', 'bald eagle', 'bandicoot', 'barnacle', 'barracuda', 'basilisk', 'basking shark', 'bass', 'basset hound', 'bat', 'beagle', 'bear', 'bearded dragon', 'beaver', 'bed bug', 'bee', 'beetle', 'beluga whale', 'bichon frise', 'bighorn sheep', 'bilby', 'binturong', 'bird', 'bison', 'bivalve', 'black bear', 'black bear hamster', 'black caiman', 'black racer', 'black swan', 'blackbird', 'bloodhound', 'blowfish', 'blue jay', 'blue morpho butterfly', 'blue ring octopus', 'blue shark', 'blue whale', 'blue-tongued skink', 'bluebird', 'bluefin tuna', 'boa constrictor', 'bobcat', 'bongo', 'bonobo', 'bony fish', 'border collie', 'Boston terrier', 'bowhead whale', 'box turtle', 'boxer', 'brittle star', 'brown bear', 'brown pelican', 'buffalo', 'bug', 'bull', 'bull shark', 'bull snake', 'bulldog', 'bullfrog', 'bumblebee', 'bushbaby', 'butterfly', 'caiman', 'California sea lion', 'camel', 'Canada goose', 'canary', 'cape buffalo', 'Cape hunting dog', 'capybera', 'caracal', 'cardinal', 'caribou', 'carnivora', 'carpenter ant', 'cassowary', 'cat', 'catamount', 'caterpillar', 'cattle', 'cavy', 'centipede', 'cephalpod', 'chameleon', 'cheetah', 'chickadee', 'chicken', 'chihuahua', 'chimipanzee', 'chinchilla', 'chipmunk', 'chiton', 'chrysalis', 'cicada', 'clam', 'clownfish', 'coati', 'cobra', 'cockatoo', 'cockroach', 'cod', 'coelacanth', 'collared lizard', 'collared peccary', 'collie', 'colugo', 'common rhea', 'companion dog', 'conch', 'cookiecutter shark', 'copepod', 'copperhead snake', 'coral', 'coral snake', 'corn snake', 'cottonmouth', 'cougar', 'cow', 'coyote', 'coypu', 'crab', 'crane', 'crayfish', 'cricket', 'crocodile', 'crow', 'crustacean', 'Cryptoclidus', 'cuttlefish', 'cutworm', 'Dachshund', 'dall sheep', \"Dall's porpoise\", 'Dalmatian', 'damselfly', 'dark-eyed junco', 'darkling beetle', 'deer', 'Deinonychus', 'desert tortoise', 'Desmatosuchus', 'dhole', 'diatom', 'Dilophosaurus', 'Dimetrodon', 'dingo', 'Dinichthys', 'Dinornis', 'dinosaur', 'Diplodocus', 'Doberman pinscher', 'dodo', 'Doedicurus', 'dog', 'dogfish', 'dolphin', 'dolphin, bottlenose', 'dolphin, spotted', 'donkey', 'dory', 'dove', 'downy woodpecker', 'dragonfly', 'dromedary', 'duck', 'duck-billed platypus', 'dugong', 'dung beetle', 'Dunkleosteus', 'eagle', 'earthworm', 'earwig', 'eastern bluebird', 'eastern quoll', 'echidna', 'echinoderms', 'Edenta', 'Edmontonia', 'Edmontosaurus', 'eel', 'egg', 'egret', 'ekaltadelta', 'eland', 'Elasmosaurus', 'Elasmotherium', 'electric eel', 'elephant', 'elephant seal', 'elk', 'emerald tree boa', 'emperor angelfish', 'emperor penguin', 'emu', 'endangered species', 'Eohippus', 'Eoraptor', 'ermine', 'Estemmenosuchus', 'extinct animals', 'Fabrosaurus', 'falcon', 'farm animals', 'fennec fox', 'ferret', 'fiddler crab', 'fin whale', 'finch', 'fireant', 'firefly', 'fish', 'flamingo', 'flatworm', 'flea', 'flightless birds', 'flounder', 'fly', 'flying fish', 'flying squirrel', 'forest antelope', 'forest giraffe', 'fossa', 'fowl', 'fox', 'frilled lizard', 'frog', 'fruit bat', 'fruit fly', 'fugu', 'galagos', 'Galapagos shark', 'gar', 'gastropod', 'gavial', 'gazelle', 'gecko', 'gerbil', 'German shepherd', 'giant squid', 'gibbon', 'gila monster', 'giraffe', 'Glyptodon', 'gnat', 'gnu', 'goat', 'golden eagle', 'golden lion tamarin', 'golden retriever', 'goldfinch', 'goldfish', 'goose', 'gopher', 'gorilla', 'grasshopper', 'gray whale', 'great apes', 'great Dane', 'great egret', 'great horned owl', 'great white shark', 'green darner dragonfly', 'green iguana', 'Greenland shark', 'greyhound', 'grizzly bear', 'groundhog', 'grouper', 'grouse', 'grub', 'guinea pig', 'gull', 'gulper eel', 'hammerhead shark', 'hamster', 'hare', 'harlequin bug', 'harp seal', 'harpy eagle', 'hatchetfish', 'Hawaiian goose', 'hawk', 'hedgehog', 'hen', 'hermit crab', 'heron', 'herring', 'hippo', 'hippopotamus', 'honey bee', 'hornet', 'horse', 'horseshoe crab', 'hound', 'house fly', 'howler monkey', 'human being', 'hummingbird', 'humpback whale', 'husky', 'hyena', 'Hyracotherium', 'hyrax', 'ibis', 'Ichthyornis', 'Ichthyosaurus', 'iguana', 'Iguanodon', 'imago', 'impala', 'Indian elephant', 'insect', 'insectivores', 'invertebrates', 'Irish setter', 'isopod', 'jack rabbit', 'Jack Russell terrier', 'jaguar', 'Janenschia', 'Japanese crane', 'javelina', 'jay', 'jellyfish', 'jerboa', 'joey', 'John Dory', 'jumping bean moth', 'junco', 'junebug', 'kakapo', 'kangaroo', 'kangaroo rat', 'karakul', 'katydid', 'keel-billed toucan', 'Kentrosaurus', 'killer whale', 'king cobra', 'king crab', 'kinkajou', 'kiwi', 'knobbed whelk', 'koala', 'Komodo dragon', 'kookaburra', 'krill', 'Kronosaurus', 'Kudu', 'Labrador retriever', 'ladybug', 'lagomorph', 'lake trout', 'lanternfish', 'larva', 'leafcutter ant', 'leghorn', 'lemming', 'lemon shark', 'lemur', 'leopard', 'Lhasa apso', 'lice', 'lightning bug', 'limpet', 'lion', 'Liopleurodon', 'lizard', 'llama', 'lobster', 'locust', 'loggerhead turtle', 'longhorn', 'loon', 'lorikeet', 'loris', 'louse', 'luminous shark', 'luna moth', 'lynx', 'macaque', 'macaw', 'mackerel', 'Macrauchenia', 'maggot', 'mako shark', 'mallard duck', 'mamba', 'mammal', 'mammoth', \"man-o'-war\", 'manatee', 'mandrill', 'manta ray', 'mantid', 'mantis', 'marbled murrelet', 'marine mammals', 'marmoset', 'marmot', 'marsupial', 'mastiff', 'mastodon', 'meadowlark', 'mealworm', 'meerkat', 'Megalodon', 'megamouth shark', 'merganser', 'mice', 'midge', 'migrate', 'millipede', 'mink', 'minnow', 'moa', 'mockingbird', 'mole', 'mollusk', 'monarch butterfly', 'mongoose', 'monitor lizard', 'monkey', 'monotreme', 'moose', 'moray eel', 'Morganucodon', 'morpho butterfly', 'mosquito', 'moth', 'mountain lion', 'mouse', 'mudpuppy', 'musk ox', 'muskrat', 'mussels', 'mustelids', 'nabarlek', 'naked mole-rat', 'nandu', 'narwhal', 'nautilus', 'nene', 'nest', 'newt', 'nightingale', 'nine-banded armadillo', 'North American beaver', 'North American porcupine', 'northern cardinal', 'northern elephant seal', 'northern fur seal', 'northern right whale', 'numbat', 'nurse shark', 'nuthatch', 'nutria', 'nymph', 'ocelot', 'octopus', 'okapi', 'old English sheepdog', 'onager', 'opossum', 'orangutan', 'orca', 'Oregon silverspot butterfly', 'oriole', 'Ornitholestes', 'Ornithomimus', 'oropendola', 'Orthacanthus', 'oryx', 'ostrich', 'otter, river', 'otter, sea', 'Oviraptor', 'owl', 'ox', 'oxpecker', 'oyster', 'painted lady butterfly', 'painted turtle', 'panda', 'pangolin', 'panther', 'parakeet', 'parrot', 'peacock', 'peafowl', 'pekingese', 'pelican', 'penguin', 'peregrine falcon', 'Perissodactyls', 'petrel', 'pig', 'pigeon', 'pika', 'pill bug', 'pinnipeds', 'piranha', 'placental mammals', 'plankton', 'platybelodon', 'platypus', 'ploughshare tortoise', 'plover', 'polar bear', 'polliwog', 'pomeranian', 'pompano', 'pond skater', 'poodle', 'porcupine', 'porpoise', 'Port Jackson shark', 'Portuguese water dog', 'Postosuchus', 'prairie chicken', 'praying mantid', 'praying mantis', 'primates', 'Proboscideans', 'pronghorn', 'protozoan', 'pufferfish', 'puffin', 'pug', 'puma', 'pupa', 'pupfish', 'python', 'Quaesitosaurus', 'quagga', 'quail', \"Queen Alexandra's birdwing\", 'queen conch', 'quetzal', 'quokka', 'quoll', 'rabbit', 'raccoon', 'rat', 'rattlesnake', 'ray', 'red hooded duck', 'red kangaroo', 'red panda', 'red wolf', 'red-tailed hawk', 'redbilled oxpecker', 'reindeer', 'reptile', 'rhea', 'rhino', 'rhinoceros', 'Rhode Island red', 'right whale', 'ring-billed gull', 'ring-tailed lemur', 'ringtail possum', 'river otter', 'roach', 'roadrunner', 'robin', 'rock dove', 'rockhopper penguin', 'rodent', 'rooster', 'rottweiler', 'roundworm', 'ruby-throated hummingbird', 'sailfish', 'salamander', 'salmon', 'sand dollar', 'sandpiper', 'scallop', 'scarlet macaw', 'scorpion', 'Scottish terrier', 'sea anemone', 'sea cow', 'sea cucumber', 'sea otter', 'sea star', 'sea turtle', 'sea urchin', 'sea worm', 'seahorse', 'seal', 'sealion', 'serval', 'shark', 'sheep', 'shrew', 'shrimp', 'siamang', 'Siberian husky', 'silkworm', 'silverfish', 'skink', 'skipper', 'skunk', 'sloth', 'slow worm', 'slug', 'Smilodon', 'snail', 'snake', 'snapper', 'snapping turtle', 'snow goose', 'snow leopard', 'snowy owl', 'softshell turtle', 'sparrow', 'spectacled caiman', 'spectacled porpoise', 'spider', 'spiny anteater', 'spiny lizard', 'sponge', 'spotted owl', 'springtail', 'squid', 'squirrel', 'St. Bernard', 'starfish', 'starling', 'Stegosaurus', 'stingray', 'stonefly', 'stork', 'sugar glider', 'sunfish', 'swallowtail butterfly', 'swan', 'swift', 'swordfish', 'T. rex', 'tadpole', 'tamarin', 'tanager', 'tapir', 'tarantula', 'tarpon', 'tarsier', 'Tasmanian devil', 'Tasmanian tiger', 'Teratosaurus', 'termite', 'tern', 'terrier', 'Thecodontosaurus', 'Thescelosaurus', 'three-toed sloth', 'thresher shark', 'thrip', 'tick', 'tiger', 'tiger shark', 'tiger swallowtail butterfly', 'toad', 'Torosaurus', 'tortoise', 'toucan', 'Trachodon', 'tree shrew', 'tree sparrow', 'treefrog', 'Triceratops', 'Trilobite', 'Troodon', 'trout', 'trumpeter swan', 'tsetse fly', 'tuatara', 'tuna', 'tundra wolf', 'turkey', 'turtle', 'Tyrannosaurus rex', 'Ultrasaurus', 'Ulysses butterfly', 'umbrellabird', 'ungulates', 'uniramians', 'urchin', 'Utahraptor', 'valley quail', 'vampire bat', 'veiled chameleon', 'Velociraptor', 'venomous animals', 'vertebrates', 'viceroy butterfly', 'vinegarroon', 'viper', 'Virginia opossum', 'Vulcanodon', 'vulture', 'walkingstick', 'wallaby', 'walrus', 'warthog', 'wasp', 'water moccasin', 'water strider', 'waterbug', 'weasel', 'Weddell seal', 'weevil', 'west highland white terrier', 'western meadowlark', 'western spotted owl', 'whale', 'whale shark', 'whelk', 'whip scorpion', 'whippet', 'white Bengal tiger', 'white dove', 'white pelican', 'white rhinoceros', 'white tiger', 'white-breasted nuthatch', 'white-spotted dolphin', 'white-tailed deer', 'wild cat', 'wild dog', 'wildebeest', 'wolf', 'wolverine', 'wombat', 'wood louse', 'woodchuck', 'woodland caribou', 'woodpecker', 'woolly bear caterpillar', 'woolly mammoth', 'woolly rhinoceros', 'working dog', 'worm', 'wren', 'Xenarthra (Edentata)', 'xenops', 'Xiaosaurus', 'yak', 'yellow mealworm', 'yellow mongoose', 'yellowjacket', 'Yorkshire terrier', 'zebra', 'zebra bullhead shark', 'zebra longwing butterfly', 'zebra swallowtail butterfly', 'zooplankton', 'zorilla', 'zorro']\n"
     ]
    }
   ],
   "source": [
    "print(animals_word_list)"
   ]
  },
  {
   "cell_type": "code",
   "execution_count": 39,
   "metadata": {},
   "outputs": [],
   "source": [
    "def word_crawling(word_list, topic):\n",
    "\n",
    "    word_filtered = []\n",
    "\n",
    "    for word in tqdm(word_list):\n",
    "        link = f\"https://www.britannica.com/search?query={word}\"\n",
    "        res = requests.get(link)\n",
    "        soup = BeautifulSoup(res.text, 'html.parser')\n",
    "        searches = soup.select(\"a.font-weight-bold\")\n",
    "    \n",
    "        candidates = []\n",
    "\n",
    "        for search in searches:\n",
    "            temp = re.search(r'(.*?)\\((.*?)\\)', search.text.strip())\n",
    "            if temp != None:\n",
    "                if temp.group(2) in topic:\n",
    "                    word_filtered.append(temp.group(1)[:-1])\n",
    "                    break\n",
    "\n",
    "    return word_filtered"
   ]
  },
  {
   "cell_type": "code",
   "execution_count": 33,
   "metadata": {},
   "outputs": [
    {
     "output_type": "execute_result",
     "data": {
      "text/plain": [
       "96"
      ]
     },
     "metadata": {},
     "execution_count": 33
    }
   ],
   "source": [
    "sports_word = set([word[:-1].lower() for word in word_crawling(animals_word_list, ['sport'])])"
   ]
  },
  {
   "cell_type": "code",
   "execution_count": 41,
   "metadata": {},
   "outputs": [
    {
     "output_type": "stream",
     "name": "stderr",
     "text": [
      "100%|█████████▉| 808/812 [27:39<00:08,  2.05s/it]\n"
     ]
    },
    {
     "output_type": "error",
     "ename": "KeyboardInterrupt",
     "evalue": "",
     "traceback": [
      "\u001b[0;31m---------------------------------------------------------------------------\u001b[0m",
      "\u001b[0;31mKeyboardInterrupt\u001b[0m                         Traceback (most recent call last)",
      "\u001b[0;32m<ipython-input-41-bc02e3bdc561>\u001b[0m in \u001b[0;36m<module>\u001b[0;34m\u001b[0m\n\u001b[0;32m----> 1\u001b[0;31m \u001b[0manimals_word\u001b[0m \u001b[0;34m=\u001b[0m \u001b[0mset\u001b[0m\u001b[0;34m(\u001b[0m\u001b[0;34m[\u001b[0m\u001b[0mword\u001b[0m\u001b[0;34m[\u001b[0m\u001b[0;34m:\u001b[0m\u001b[0;34m-\u001b[0m\u001b[0;36m1\u001b[0m\u001b[0;34m]\u001b[0m\u001b[0;34m.\u001b[0m\u001b[0mlower\u001b[0m\u001b[0;34m(\u001b[0m\u001b[0;34m)\u001b[0m \u001b[0;32mfor\u001b[0m \u001b[0mword\u001b[0m \u001b[0;32min\u001b[0m \u001b[0mword_crawling\u001b[0m\u001b[0;34m(\u001b[0m\u001b[0manimals_word_list\u001b[0m\u001b[0;34m,\u001b[0m \u001b[0;34m[\u001b[0m\u001b[0;34m'mammal'\u001b[0m\u001b[0;34m,\u001b[0m \u001b[0;34m'fish'\u001b[0m\u001b[0;34m,\u001b[0m \u001b[0;34m'amphibian'\u001b[0m\u001b[0;34m,\u001b[0m \u001b[0;34m'reptile'\u001b[0m\u001b[0;34m,\u001b[0m \u001b[0;34m'bird'\u001b[0m\u001b[0;34m]\u001b[0m\u001b[0;34m)\u001b[0m\u001b[0;34m]\u001b[0m\u001b[0;34m)\u001b[0m\u001b[0;34m\u001b[0m\u001b[0;34m\u001b[0m\u001b[0m\n\u001b[0m",
      "\u001b[0;32m<ipython-input-39-cfca2d8733d3>\u001b[0m in \u001b[0;36mword_crawling\u001b[0;34m(word_list, topic)\u001b[0m\n\u001b[1;32m      5\u001b[0m     \u001b[0;32mfor\u001b[0m \u001b[0mword\u001b[0m \u001b[0;32min\u001b[0m \u001b[0mtqdm\u001b[0m\u001b[0;34m(\u001b[0m\u001b[0mword_list\u001b[0m\u001b[0;34m)\u001b[0m\u001b[0;34m:\u001b[0m\u001b[0;34m\u001b[0m\u001b[0;34m\u001b[0m\u001b[0m\n\u001b[1;32m      6\u001b[0m         \u001b[0mlink\u001b[0m \u001b[0;34m=\u001b[0m \u001b[0;34mf\"https://www.britannica.com/search?query={word}\"\u001b[0m\u001b[0;34m\u001b[0m\u001b[0;34m\u001b[0m\u001b[0m\n\u001b[0;32m----> 7\u001b[0;31m         \u001b[0mres\u001b[0m \u001b[0;34m=\u001b[0m \u001b[0mrequests\u001b[0m\u001b[0;34m.\u001b[0m\u001b[0mget\u001b[0m\u001b[0;34m(\u001b[0m\u001b[0mlink\u001b[0m\u001b[0;34m)\u001b[0m\u001b[0;34m\u001b[0m\u001b[0;34m\u001b[0m\u001b[0m\n\u001b[0m\u001b[1;32m      8\u001b[0m         \u001b[0msoup\u001b[0m \u001b[0;34m=\u001b[0m \u001b[0mBeautifulSoup\u001b[0m\u001b[0;34m(\u001b[0m\u001b[0mres\u001b[0m\u001b[0;34m.\u001b[0m\u001b[0mtext\u001b[0m\u001b[0;34m,\u001b[0m \u001b[0;34m'html.parser'\u001b[0m\u001b[0;34m)\u001b[0m\u001b[0;34m\u001b[0m\u001b[0;34m\u001b[0m\u001b[0m\n\u001b[1;32m      9\u001b[0m         \u001b[0msearches\u001b[0m \u001b[0;34m=\u001b[0m \u001b[0msoup\u001b[0m\u001b[0;34m.\u001b[0m\u001b[0mselect\u001b[0m\u001b[0;34m(\u001b[0m\u001b[0;34m\"a.font-weight-bold\"\u001b[0m\u001b[0;34m)\u001b[0m\u001b[0;34m\u001b[0m\u001b[0;34m\u001b[0m\u001b[0m\n",
      "\u001b[0;32m~/opt/anaconda3/lib/python3.8/site-packages/requests/api.py\u001b[0m in \u001b[0;36mget\u001b[0;34m(url, params, **kwargs)\u001b[0m\n\u001b[1;32m     74\u001b[0m \u001b[0;34m\u001b[0m\u001b[0m\n\u001b[1;32m     75\u001b[0m     \u001b[0mkwargs\u001b[0m\u001b[0;34m.\u001b[0m\u001b[0msetdefault\u001b[0m\u001b[0;34m(\u001b[0m\u001b[0;34m'allow_redirects'\u001b[0m\u001b[0;34m,\u001b[0m \u001b[0;32mTrue\u001b[0m\u001b[0;34m)\u001b[0m\u001b[0;34m\u001b[0m\u001b[0;34m\u001b[0m\u001b[0m\n\u001b[0;32m---> 76\u001b[0;31m     \u001b[0;32mreturn\u001b[0m \u001b[0mrequest\u001b[0m\u001b[0;34m(\u001b[0m\u001b[0;34m'get'\u001b[0m\u001b[0;34m,\u001b[0m \u001b[0murl\u001b[0m\u001b[0;34m,\u001b[0m \u001b[0mparams\u001b[0m\u001b[0;34m=\u001b[0m\u001b[0mparams\u001b[0m\u001b[0;34m,\u001b[0m \u001b[0;34m**\u001b[0m\u001b[0mkwargs\u001b[0m\u001b[0;34m)\u001b[0m\u001b[0;34m\u001b[0m\u001b[0;34m\u001b[0m\u001b[0m\n\u001b[0m\u001b[1;32m     77\u001b[0m \u001b[0;34m\u001b[0m\u001b[0m\n\u001b[1;32m     78\u001b[0m \u001b[0;34m\u001b[0m\u001b[0m\n",
      "\u001b[0;32m~/opt/anaconda3/lib/python3.8/site-packages/requests/api.py\u001b[0m in \u001b[0;36mrequest\u001b[0;34m(method, url, **kwargs)\u001b[0m\n\u001b[1;32m     59\u001b[0m     \u001b[0;31m# cases, and look like a memory leak in others.\u001b[0m\u001b[0;34m\u001b[0m\u001b[0;34m\u001b[0m\u001b[0;34m\u001b[0m\u001b[0m\n\u001b[1;32m     60\u001b[0m     \u001b[0;32mwith\u001b[0m \u001b[0msessions\u001b[0m\u001b[0;34m.\u001b[0m\u001b[0mSession\u001b[0m\u001b[0;34m(\u001b[0m\u001b[0;34m)\u001b[0m \u001b[0;32mas\u001b[0m \u001b[0msession\u001b[0m\u001b[0;34m:\u001b[0m\u001b[0;34m\u001b[0m\u001b[0;34m\u001b[0m\u001b[0m\n\u001b[0;32m---> 61\u001b[0;31m         \u001b[0;32mreturn\u001b[0m \u001b[0msession\u001b[0m\u001b[0;34m.\u001b[0m\u001b[0mrequest\u001b[0m\u001b[0;34m(\u001b[0m\u001b[0mmethod\u001b[0m\u001b[0;34m=\u001b[0m\u001b[0mmethod\u001b[0m\u001b[0;34m,\u001b[0m \u001b[0murl\u001b[0m\u001b[0;34m=\u001b[0m\u001b[0murl\u001b[0m\u001b[0;34m,\u001b[0m \u001b[0;34m**\u001b[0m\u001b[0mkwargs\u001b[0m\u001b[0;34m)\u001b[0m\u001b[0;34m\u001b[0m\u001b[0;34m\u001b[0m\u001b[0m\n\u001b[0m\u001b[1;32m     62\u001b[0m \u001b[0;34m\u001b[0m\u001b[0m\n\u001b[1;32m     63\u001b[0m \u001b[0;34m\u001b[0m\u001b[0m\n",
      "\u001b[0;32m~/opt/anaconda3/lib/python3.8/site-packages/requests/sessions.py\u001b[0m in \u001b[0;36mrequest\u001b[0;34m(self, method, url, params, data, headers, cookies, files, auth, timeout, allow_redirects, proxies, hooks, stream, verify, cert, json)\u001b[0m\n\u001b[1;32m    528\u001b[0m         }\n\u001b[1;32m    529\u001b[0m         \u001b[0msend_kwargs\u001b[0m\u001b[0;34m.\u001b[0m\u001b[0mupdate\u001b[0m\u001b[0;34m(\u001b[0m\u001b[0msettings\u001b[0m\u001b[0;34m)\u001b[0m\u001b[0;34m\u001b[0m\u001b[0;34m\u001b[0m\u001b[0m\n\u001b[0;32m--> 530\u001b[0;31m         \u001b[0mresp\u001b[0m \u001b[0;34m=\u001b[0m \u001b[0mself\u001b[0m\u001b[0;34m.\u001b[0m\u001b[0msend\u001b[0m\u001b[0;34m(\u001b[0m\u001b[0mprep\u001b[0m\u001b[0;34m,\u001b[0m \u001b[0;34m**\u001b[0m\u001b[0msend_kwargs\u001b[0m\u001b[0;34m)\u001b[0m\u001b[0;34m\u001b[0m\u001b[0;34m\u001b[0m\u001b[0m\n\u001b[0m\u001b[1;32m    531\u001b[0m \u001b[0;34m\u001b[0m\u001b[0m\n\u001b[1;32m    532\u001b[0m         \u001b[0;32mreturn\u001b[0m \u001b[0mresp\u001b[0m\u001b[0;34m\u001b[0m\u001b[0;34m\u001b[0m\u001b[0m\n",
      "\u001b[0;32m~/opt/anaconda3/lib/python3.8/site-packages/requests/sessions.py\u001b[0m in \u001b[0;36msend\u001b[0;34m(self, request, **kwargs)\u001b[0m\n\u001b[1;32m    641\u001b[0m \u001b[0;34m\u001b[0m\u001b[0m\n\u001b[1;32m    642\u001b[0m         \u001b[0;31m# Send the request\u001b[0m\u001b[0;34m\u001b[0m\u001b[0;34m\u001b[0m\u001b[0;34m\u001b[0m\u001b[0m\n\u001b[0;32m--> 643\u001b[0;31m         \u001b[0mr\u001b[0m \u001b[0;34m=\u001b[0m \u001b[0madapter\u001b[0m\u001b[0;34m.\u001b[0m\u001b[0msend\u001b[0m\u001b[0;34m(\u001b[0m\u001b[0mrequest\u001b[0m\u001b[0;34m,\u001b[0m \u001b[0;34m**\u001b[0m\u001b[0mkwargs\u001b[0m\u001b[0;34m)\u001b[0m\u001b[0;34m\u001b[0m\u001b[0;34m\u001b[0m\u001b[0m\n\u001b[0m\u001b[1;32m    644\u001b[0m \u001b[0;34m\u001b[0m\u001b[0m\n\u001b[1;32m    645\u001b[0m         \u001b[0;31m# Total elapsed time of the request (approximately)\u001b[0m\u001b[0;34m\u001b[0m\u001b[0;34m\u001b[0m\u001b[0;34m\u001b[0m\u001b[0m\n",
      "\u001b[0;32m~/opt/anaconda3/lib/python3.8/site-packages/requests/adapters.py\u001b[0m in \u001b[0;36msend\u001b[0;34m(self, request, stream, timeout, verify, cert, proxies)\u001b[0m\n\u001b[1;32m    437\u001b[0m         \u001b[0;32mtry\u001b[0m\u001b[0;34m:\u001b[0m\u001b[0;34m\u001b[0m\u001b[0;34m\u001b[0m\u001b[0m\n\u001b[1;32m    438\u001b[0m             \u001b[0;32mif\u001b[0m \u001b[0;32mnot\u001b[0m \u001b[0mchunked\u001b[0m\u001b[0;34m:\u001b[0m\u001b[0;34m\u001b[0m\u001b[0;34m\u001b[0m\u001b[0m\n\u001b[0;32m--> 439\u001b[0;31m                 resp = conn.urlopen(\n\u001b[0m\u001b[1;32m    440\u001b[0m                     \u001b[0mmethod\u001b[0m\u001b[0;34m=\u001b[0m\u001b[0mrequest\u001b[0m\u001b[0;34m.\u001b[0m\u001b[0mmethod\u001b[0m\u001b[0;34m,\u001b[0m\u001b[0;34m\u001b[0m\u001b[0;34m\u001b[0m\u001b[0m\n\u001b[1;32m    441\u001b[0m                     \u001b[0murl\u001b[0m\u001b[0;34m=\u001b[0m\u001b[0murl\u001b[0m\u001b[0;34m,\u001b[0m\u001b[0;34m\u001b[0m\u001b[0;34m\u001b[0m\u001b[0m\n",
      "\u001b[0;32m~/opt/anaconda3/lib/python3.8/site-packages/urllib3/connectionpool.py\u001b[0m in \u001b[0;36murlopen\u001b[0;34m(self, method, url, body, headers, retries, redirect, assert_same_host, timeout, pool_timeout, release_conn, chunked, body_pos, **response_kw)\u001b[0m\n\u001b[1;32m    668\u001b[0m \u001b[0;34m\u001b[0m\u001b[0m\n\u001b[1;32m    669\u001b[0m             \u001b[0;31m# Make the request on the httplib connection object.\u001b[0m\u001b[0;34m\u001b[0m\u001b[0;34m\u001b[0m\u001b[0;34m\u001b[0m\u001b[0m\n\u001b[0;32m--> 670\u001b[0;31m             httplib_response = self._make_request(\n\u001b[0m\u001b[1;32m    671\u001b[0m                 \u001b[0mconn\u001b[0m\u001b[0;34m,\u001b[0m\u001b[0;34m\u001b[0m\u001b[0;34m\u001b[0m\u001b[0m\n\u001b[1;32m    672\u001b[0m                 \u001b[0mmethod\u001b[0m\u001b[0;34m,\u001b[0m\u001b[0;34m\u001b[0m\u001b[0;34m\u001b[0m\u001b[0m\n",
      "\u001b[0;32m~/opt/anaconda3/lib/python3.8/site-packages/urllib3/connectionpool.py\u001b[0m in \u001b[0;36m_make_request\u001b[0;34m(self, conn, method, url, timeout, chunked, **httplib_request_kw)\u001b[0m\n\u001b[1;32m    379\u001b[0m         \u001b[0;31m# Trigger any extra validation we need to do.\u001b[0m\u001b[0;34m\u001b[0m\u001b[0;34m\u001b[0m\u001b[0;34m\u001b[0m\u001b[0m\n\u001b[1;32m    380\u001b[0m         \u001b[0;32mtry\u001b[0m\u001b[0;34m:\u001b[0m\u001b[0;34m\u001b[0m\u001b[0;34m\u001b[0m\u001b[0m\n\u001b[0;32m--> 381\u001b[0;31m             \u001b[0mself\u001b[0m\u001b[0;34m.\u001b[0m\u001b[0m_validate_conn\u001b[0m\u001b[0;34m(\u001b[0m\u001b[0mconn\u001b[0m\u001b[0;34m)\u001b[0m\u001b[0;34m\u001b[0m\u001b[0;34m\u001b[0m\u001b[0m\n\u001b[0m\u001b[1;32m    382\u001b[0m         \u001b[0;32mexcept\u001b[0m \u001b[0;34m(\u001b[0m\u001b[0mSocketTimeout\u001b[0m\u001b[0;34m,\u001b[0m \u001b[0mBaseSSLError\u001b[0m\u001b[0;34m)\u001b[0m \u001b[0;32mas\u001b[0m \u001b[0me\u001b[0m\u001b[0;34m:\u001b[0m\u001b[0;34m\u001b[0m\u001b[0;34m\u001b[0m\u001b[0m\n\u001b[1;32m    383\u001b[0m             \u001b[0;31m# Py2 raises this as a BaseSSLError, Py3 raises it as socket timeout.\u001b[0m\u001b[0;34m\u001b[0m\u001b[0;34m\u001b[0m\u001b[0;34m\u001b[0m\u001b[0m\n",
      "\u001b[0;32m~/opt/anaconda3/lib/python3.8/site-packages/urllib3/connectionpool.py\u001b[0m in \u001b[0;36m_validate_conn\u001b[0;34m(self, conn)\u001b[0m\n\u001b[1;32m    976\u001b[0m         \u001b[0;31m# Force connect early to allow us to validate the connection.\u001b[0m\u001b[0;34m\u001b[0m\u001b[0;34m\u001b[0m\u001b[0;34m\u001b[0m\u001b[0m\n\u001b[1;32m    977\u001b[0m         \u001b[0;32mif\u001b[0m \u001b[0;32mnot\u001b[0m \u001b[0mgetattr\u001b[0m\u001b[0;34m(\u001b[0m\u001b[0mconn\u001b[0m\u001b[0;34m,\u001b[0m \u001b[0;34m\"sock\"\u001b[0m\u001b[0;34m,\u001b[0m \u001b[0;32mNone\u001b[0m\u001b[0;34m)\u001b[0m\u001b[0;34m:\u001b[0m  \u001b[0;31m# AppEngine might not have  `.sock`\u001b[0m\u001b[0;34m\u001b[0m\u001b[0;34m\u001b[0m\u001b[0m\n\u001b[0;32m--> 978\u001b[0;31m             \u001b[0mconn\u001b[0m\u001b[0;34m.\u001b[0m\u001b[0mconnect\u001b[0m\u001b[0;34m(\u001b[0m\u001b[0;34m)\u001b[0m\u001b[0;34m\u001b[0m\u001b[0;34m\u001b[0m\u001b[0m\n\u001b[0m\u001b[1;32m    979\u001b[0m \u001b[0;34m\u001b[0m\u001b[0m\n\u001b[1;32m    980\u001b[0m         \u001b[0;32mif\u001b[0m \u001b[0;32mnot\u001b[0m \u001b[0mconn\u001b[0m\u001b[0;34m.\u001b[0m\u001b[0mis_verified\u001b[0m\u001b[0;34m:\u001b[0m\u001b[0;34m\u001b[0m\u001b[0;34m\u001b[0m\u001b[0m\n",
      "\u001b[0;32m~/opt/anaconda3/lib/python3.8/site-packages/urllib3/connection.py\u001b[0m in \u001b[0;36mconnect\u001b[0;34m(self)\u001b[0m\n\u001b[1;32m    360\u001b[0m             \u001b[0mcontext\u001b[0m\u001b[0;34m.\u001b[0m\u001b[0mload_default_certs\u001b[0m\u001b[0;34m(\u001b[0m\u001b[0;34m)\u001b[0m\u001b[0;34m\u001b[0m\u001b[0;34m\u001b[0m\u001b[0m\n\u001b[1;32m    361\u001b[0m \u001b[0;34m\u001b[0m\u001b[0m\n\u001b[0;32m--> 362\u001b[0;31m         self.sock = ssl_wrap_socket(\n\u001b[0m\u001b[1;32m    363\u001b[0m             \u001b[0msock\u001b[0m\u001b[0;34m=\u001b[0m\u001b[0mconn\u001b[0m\u001b[0;34m,\u001b[0m\u001b[0;34m\u001b[0m\u001b[0;34m\u001b[0m\u001b[0m\n\u001b[1;32m    364\u001b[0m             \u001b[0mkeyfile\u001b[0m\u001b[0;34m=\u001b[0m\u001b[0mself\u001b[0m\u001b[0;34m.\u001b[0m\u001b[0mkey_file\u001b[0m\u001b[0;34m,\u001b[0m\u001b[0;34m\u001b[0m\u001b[0;34m\u001b[0m\u001b[0m\n",
      "\u001b[0;32m~/opt/anaconda3/lib/python3.8/site-packages/urllib3/util/ssl_.py\u001b[0m in \u001b[0;36mssl_wrap_socket\u001b[0;34m(sock, keyfile, certfile, cert_reqs, ca_certs, server_hostname, ssl_version, ciphers, ssl_context, ca_cert_dir, key_password, ca_cert_data)\u001b[0m\n\u001b[1;32m    384\u001b[0m     ) or IS_SECURETRANSPORT:\n\u001b[1;32m    385\u001b[0m         \u001b[0;32mif\u001b[0m \u001b[0mHAS_SNI\u001b[0m \u001b[0;32mand\u001b[0m \u001b[0mserver_hostname\u001b[0m \u001b[0;32mis\u001b[0m \u001b[0;32mnot\u001b[0m \u001b[0;32mNone\u001b[0m\u001b[0;34m:\u001b[0m\u001b[0;34m\u001b[0m\u001b[0;34m\u001b[0m\u001b[0m\n\u001b[0;32m--> 386\u001b[0;31m             \u001b[0;32mreturn\u001b[0m \u001b[0mcontext\u001b[0m\u001b[0;34m.\u001b[0m\u001b[0mwrap_socket\u001b[0m\u001b[0;34m(\u001b[0m\u001b[0msock\u001b[0m\u001b[0;34m,\u001b[0m \u001b[0mserver_hostname\u001b[0m\u001b[0;34m=\u001b[0m\u001b[0mserver_hostname\u001b[0m\u001b[0;34m)\u001b[0m\u001b[0;34m\u001b[0m\u001b[0;34m\u001b[0m\u001b[0m\n\u001b[0m\u001b[1;32m    387\u001b[0m \u001b[0;34m\u001b[0m\u001b[0m\n\u001b[1;32m    388\u001b[0m         warnings.warn(\n",
      "\u001b[0;32m~/opt/anaconda3/lib/python3.8/ssl.py\u001b[0m in \u001b[0;36mwrap_socket\u001b[0;34m(self, sock, server_side, do_handshake_on_connect, suppress_ragged_eofs, server_hostname, session)\u001b[0m\n\u001b[1;32m    498\u001b[0m         \u001b[0;31m# SSLSocket class handles server_hostname encoding before it calls\u001b[0m\u001b[0;34m\u001b[0m\u001b[0;34m\u001b[0m\u001b[0;34m\u001b[0m\u001b[0m\n\u001b[1;32m    499\u001b[0m         \u001b[0;31m# ctx._wrap_socket()\u001b[0m\u001b[0;34m\u001b[0m\u001b[0;34m\u001b[0m\u001b[0;34m\u001b[0m\u001b[0m\n\u001b[0;32m--> 500\u001b[0;31m         return self.sslsocket_class._create(\n\u001b[0m\u001b[1;32m    501\u001b[0m             \u001b[0msock\u001b[0m\u001b[0;34m=\u001b[0m\u001b[0msock\u001b[0m\u001b[0;34m,\u001b[0m\u001b[0;34m\u001b[0m\u001b[0;34m\u001b[0m\u001b[0m\n\u001b[1;32m    502\u001b[0m             \u001b[0mserver_side\u001b[0m\u001b[0;34m=\u001b[0m\u001b[0mserver_side\u001b[0m\u001b[0;34m,\u001b[0m\u001b[0;34m\u001b[0m\u001b[0;34m\u001b[0m\u001b[0m\n",
      "\u001b[0;32m~/opt/anaconda3/lib/python3.8/ssl.py\u001b[0m in \u001b[0;36m_create\u001b[0;34m(cls, sock, server_side, do_handshake_on_connect, suppress_ragged_eofs, server_hostname, context, session)\u001b[0m\n\u001b[1;32m   1038\u001b[0m                         \u001b[0;31m# non-blocking\u001b[0m\u001b[0;34m\u001b[0m\u001b[0;34m\u001b[0m\u001b[0;34m\u001b[0m\u001b[0m\n\u001b[1;32m   1039\u001b[0m                         \u001b[0;32mraise\u001b[0m \u001b[0mValueError\u001b[0m\u001b[0;34m(\u001b[0m\u001b[0;34m\"do_handshake_on_connect should not be specified for non-blocking sockets\"\u001b[0m\u001b[0;34m)\u001b[0m\u001b[0;34m\u001b[0m\u001b[0;34m\u001b[0m\u001b[0m\n\u001b[0;32m-> 1040\u001b[0;31m                     \u001b[0mself\u001b[0m\u001b[0;34m.\u001b[0m\u001b[0mdo_handshake\u001b[0m\u001b[0;34m(\u001b[0m\u001b[0;34m)\u001b[0m\u001b[0;34m\u001b[0m\u001b[0;34m\u001b[0m\u001b[0m\n\u001b[0m\u001b[1;32m   1041\u001b[0m             \u001b[0;32mexcept\u001b[0m \u001b[0;34m(\u001b[0m\u001b[0mOSError\u001b[0m\u001b[0;34m,\u001b[0m \u001b[0mValueError\u001b[0m\u001b[0;34m)\u001b[0m\u001b[0;34m:\u001b[0m\u001b[0;34m\u001b[0m\u001b[0;34m\u001b[0m\u001b[0m\n\u001b[1;32m   1042\u001b[0m                 \u001b[0mself\u001b[0m\u001b[0;34m.\u001b[0m\u001b[0mclose\u001b[0m\u001b[0;34m(\u001b[0m\u001b[0;34m)\u001b[0m\u001b[0;34m\u001b[0m\u001b[0;34m\u001b[0m\u001b[0m\n",
      "\u001b[0;32m~/opt/anaconda3/lib/python3.8/ssl.py\u001b[0m in \u001b[0;36mdo_handshake\u001b[0;34m(self, block)\u001b[0m\n\u001b[1;32m   1307\u001b[0m             \u001b[0;32mif\u001b[0m \u001b[0mtimeout\u001b[0m \u001b[0;34m==\u001b[0m \u001b[0;36m0.0\u001b[0m \u001b[0;32mand\u001b[0m \u001b[0mblock\u001b[0m\u001b[0;34m:\u001b[0m\u001b[0;34m\u001b[0m\u001b[0;34m\u001b[0m\u001b[0m\n\u001b[1;32m   1308\u001b[0m                 \u001b[0mself\u001b[0m\u001b[0;34m.\u001b[0m\u001b[0msettimeout\u001b[0m\u001b[0;34m(\u001b[0m\u001b[0;32mNone\u001b[0m\u001b[0;34m)\u001b[0m\u001b[0;34m\u001b[0m\u001b[0;34m\u001b[0m\u001b[0m\n\u001b[0;32m-> 1309\u001b[0;31m             \u001b[0mself\u001b[0m\u001b[0;34m.\u001b[0m\u001b[0m_sslobj\u001b[0m\u001b[0;34m.\u001b[0m\u001b[0mdo_handshake\u001b[0m\u001b[0;34m(\u001b[0m\u001b[0;34m)\u001b[0m\u001b[0;34m\u001b[0m\u001b[0;34m\u001b[0m\u001b[0m\n\u001b[0m\u001b[1;32m   1310\u001b[0m         \u001b[0;32mfinally\u001b[0m\u001b[0;34m:\u001b[0m\u001b[0;34m\u001b[0m\u001b[0;34m\u001b[0m\u001b[0m\n\u001b[1;32m   1311\u001b[0m             \u001b[0mself\u001b[0m\u001b[0;34m.\u001b[0m\u001b[0msettimeout\u001b[0m\u001b[0;34m(\u001b[0m\u001b[0mtimeout\u001b[0m\u001b[0;34m)\u001b[0m\u001b[0;34m\u001b[0m\u001b[0;34m\u001b[0m\u001b[0m\n",
      "\u001b[0;31mKeyboardInterrupt\u001b[0m: "
     ]
    }
   ],
   "source": [
    "animals_word = set([word[:-1].lower() \n",
    "                    for word in word_crawling(animals_word_list, ['mammal', 'fish', 'amphibian', 'reptile', 'bird'])])"
   ]
  },
  {
   "cell_type": "code",
   "execution_count": null,
   "metadata": {},
   "outputs": [],
   "source": [
    "weapons_word = set([word[:-1].lower() for word in word_crawling(weapons_word_list, ['weapon'])])"
   ]
  },
  {
   "cell_type": "code",
   "execution_count": 38,
   "metadata": {},
   "outputs": [],
   "source": [
    "f = open('sports_word.txt', 'w')\n",
    "\n",
    "f.write('word length = {}\\n'.format(len(sports_word)))\n",
    "for word in sports_word:\n",
    "    f.write(word + '\\n')"
   ]
  },
  {
   "cell_type": "code",
   "execution_count": null,
   "metadata": {},
   "outputs": [],
   "source": []
  }
 ]
}