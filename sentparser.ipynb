{
 "metadata": {
  "language_info": {
   "codemirror_mode": {
    "name": "ipython",
    "version": 3
   },
   "file_extension": ".py",
   "mimetype": "text/x-python",
   "name": "python",
   "nbconvert_exporter": "python",
   "pygments_lexer": "ipython3",
   "version": "3.8.5"
  },
  "orig_nbformat": 2,
  "kernelspec": {
   "name": "python385jvsc74a57bd08235b21b7e4ccb1a631c75a86bc50b1a38dfb6faace30e871c40999987116d9b",
   "display_name": "Python 3.8.5 64-bit ('base': conda)"
  }
 },
 "nbformat": 4,
 "nbformat_minor": 2,
 "cells": [
  {
   "cell_type": "code",
   "execution_count": 18,
   "metadata": {},
   "outputs": [],
   "source": [
    "import nltk\n",
    "from nltk import word_tokenize\n",
    "from nltk.tokenize import sent_tokenize\n",
    "\n",
    "def dictionary_parser(raw):\n",
    "\n",
    "    sents = sent_tokenize(\"It is \" + raw)\n",
    "    words = [word_tokenize(sent) for sent in sents]\n",
    "    tagged_words = [nltk.pos_tag(sent) for sent in words]\n",
    "\n",
    "    #Define the patterns we had identified\n",
    "\n",
    "    for sent in tagged_words:\n",
    "        print(sent)\n",
    "\n",
    "    chunk_rule = r\"\"\"\n",
    "        NP: {<N.*><IN><NNP>}\n",
    "            {<DT|PR.*>?<RB|PR.?>?<JJ|PR.?>*<N.*>+} \n",
    "            {<DT><RB><NP>}\n",
    "            {<N.*><JJ><NN>*}\n",
    "            {<N.*><VBG><NN>*}\n",
    "            {<J.*>*<NN>*}\n",
    "            {<JJ>+<NN>+}\n",
    "        P:  {<IN>}\n",
    "        V:  {<V.*>}\n",
    "        PP: {<P><PR.?>?<NP>}\n",
    "        VP: {<V> <NP|PP>*}\n",
    "    \"\"\"\n",
    "\n",
    "    cp = nltk.RegexpParser(chunk_rule)\n",
    "    chunks = [cp.parse(sent) for sent in tagged_words]\n",
    "\n",
    "    return chunks"
   ]
  },
  {
   "cell_type": "code",
   "execution_count": 20,
   "metadata": {},
   "outputs": [
    {
     "output_type": "stream",
     "name": "stdout",
     "text": [
      "[('It', 'PRP'), ('is', 'VBZ'), ('a', 'DT'), ('small', 'JJ'), ('animal', 'NN'), ('with', 'IN'), ('soft', 'JJ'), ('fur', 'NNS'), (',', ','), ('long', 'JJ'), ('ears', 'NNS'), ('and', 'CC'), ('a', 'DT'), ('short', 'JJ'), ('tail', 'NN'), ('.', '.')]\n[('Rabbits', 'NNS'), ('live', 'VBP'), ('in', 'IN'), ('holes', 'NNS'), ('in', 'IN'), ('the', 'DT'), ('ground', 'NN'), ('or', 'CC'), ('are', 'VBP'), ('kept', 'VBN'), ('as', 'IN'), ('pets', 'NNS'), ('or', 'CC'), ('for', 'IN'), ('food', 'NN'), ('.', '.')]\n"
     ]
    }
   ],
   "source": [
    "definition = \"a small animal with soft fur, long ears and a short tail. Rabbits live in holes in the ground or are kept as pets or for food.\"\n",
    "\n",
    "dictionary_parser(definition)[0].draw()"
   ]
  },
  {
   "cell_type": "code",
   "execution_count": null,
   "metadata": {},
   "outputs": [],
   "source": []
  }
 ]
}