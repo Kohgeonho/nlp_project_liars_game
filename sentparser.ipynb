{
 "metadata": {
  "language_info": {
   "codemirror_mode": {
    "name": "ipython",
    "version": 3
   },
   "file_extension": ".py",
   "mimetype": "text/x-python",
   "name": "python",
   "nbconvert_exporter": "python",
   "pygments_lexer": "ipython3",
   "version": "3.8.10"
  },
  "orig_nbformat": 2,
  "kernelspec": {
   "name": "python3810jvsc74a57bd038e31c96aac6b52bfd92a03a517d6944ec75782017e4445807e0cb0d41655b05",
   "display_name": "Python 3.8.10 64-bit (windows store)"
  },
  "metadata": {
   "interpreter": {
    "hash": "38e31c96aac6b52bfd92a03a517d6944ec75782017e4445807e0cb0d41655b05"
   }
  }
 },
 "nbformat": 4,
 "nbformat_minor": 2,
 "cells": [
  {
   "cell_type": "code",
   "execution_count": 65,
   "metadata": {},
   "outputs": [],
   "source": [
    "import nltk\n",
    "from nltk.corpus import brown"
   ]
  },
  {
   "cell_type": "code",
   "execution_count": 66,
   "metadata": {},
   "outputs": [],
   "source": [
    "raw = \"In 1650 he started his career as advisor in the ministerium of finances in Den Haag. After he became a minister he went back to Amsterdam, and took place as a sort of chairing mayor of this city. After the death of his brother Cornelis, De Graeff became the strong leader of the republicans. He held this position until the rampjaar.\""
   ]
  },
  {
   "cell_type": "code",
   "execution_count": 67,
   "metadata": {},
   "outputs": [],
   "source": [
    "sents = [nltk.word_tokenize(sent) for sent in nltk.sent_tokenize(raw)]\n",
    "tagged_sents = [nltk.pos_tag(sent) for sent in sents]"
   ]
  },
  {
   "cell_type": "code",
   "execution_count": 216,
   "metadata": {},
   "outputs": [],
   "source": [
    "def parse_sent(sent):\n",
    "    token_sent = nltk.word_tokenize(sent)\n",
    "    tagged_sent = nltk.pos_tag(token_sent)\n",
    "\n",
    "    print(tagged_sent)\n",
    "\n",
    "    I_words = [word for word, tag in tagged_sent if tag.startswith('IN') or tag.startswith('TO')]\n",
    "    PN_words = [word for word, tag in tagged_sent if tag.startswith('NNP')]\n",
    "    N_words = [word for word, tag in tagged_sent if tag.startswith('NN') and not tag.startswith('NNP')]\n",
    "    V_words = [word for word, tag in tagged_sent if tag.startswith('V')]\n",
    "    DT_words = [word for word, tag in tagged_sent if tag.startswith('DT')]\n",
    "    PR_words = [word for word, tag in tagged_sent if tag.startswith('PR')]\n",
    "    J_words = [word for word, tag in tagged_sent if tag.startswith('JJ') or tag.startswith('VBG')]\n",
    "    CD_words = [word for word, tag in tagged_sent if tag.startswith('CD')]\n",
    "    CC_words = [word for word, tag in tagged_sent if tag.startswith('CC')]\n",
    "    R_words = [word for word, tag in tagged_sent if tag.startswith('RB')]\n",
    "\n",
    "    def list2str(l):\n",
    "        if len(l) == 0:\n",
    "            return 'N/A'\n",
    "        return \"'\" + \"' | '\".join(set(l)) + \"'\"\n",
    "\n",
    "    grammar1 = nltk.CFG.fromstring(\"\"\"\n",
    "        S  -> NP VP '.' | PP ',' NP VP '.' | PR VP '.' | PP PR VP '.' | PP PR VP ',' CC VP '.'\n",
    "        PP -> I NP | I CD | I clause \n",
    "        NP -> PR N PN | DT N PP | PN PN | DT PN | DT J N | J N PP | DT N | PN | N PP | PR N PP\n",
    "        VP -> V NP PP | V NP | V R I PN\n",
    "        clause -> PR VP | PP PR VP\n",
    "\n",
    "        DT -> {DT}\n",
    "        I -> {I}\n",
    "        N -> {N}\n",
    "        PN -> {PN}\n",
    "        V -> {V}\n",
    "        J -> {J}\n",
    "        R -> {R}\n",
    "        PR -> {PR}\n",
    "        CD -> {CD}\n",
    "        CC -> {CC}\n",
    "    \"\"\".format(DT= list2str(DT_words),\n",
    "            I = list2str(I_words),\n",
    "            N = list2str(N_words),\n",
    "            PN = list2str(PN_words),\n",
    "            V = list2str(V_words),\n",
    "            PR= list2str(PR_words),\n",
    "            J = list2str(J_words),\n",
    "            R = list2str(R_words),\n",
    "            CD= list2str(CD_words),\n",
    "            CC= list2str(CC_words)))\n",
    "\n",
    "    parser = nltk.ChartParser(grammar1)\n",
    "    for tree in parser.parse(token_sent):\n",
    "        print(tree, end='\\n\\n')"
   ]
  },
  {
   "cell_type": "code",
   "execution_count": 217,
   "metadata": {},
   "outputs": [
    {
     "output_type": "stream",
     "name": "stdout",
     "text": [
      "[('He', 'PRP'), ('held', 'VBD'), ('this', 'DT'), ('position', 'NN'), ('until', 'IN'), ('the', 'DT'), ('rampjaar', 'NN'), ('.', '.')]\n(S\n  (PR He)\n  (VP\n    (V held)\n    (NP (DT this) (N position))\n    (PP (I until) (NP (DT the) (N rampjaar))))\n  .)\n\n(S\n  (PR He)\n  (VP\n    (V held)\n    (NP\n      (DT this)\n      (N position)\n      (PP (I until) (NP (DT the) (N rampjaar)))))\n  .)\n\n"
     ]
    }
   ],
   "source": [
    "parse_sent(\"He held this position until the rampjaar.\")"
   ]
  },
  {
   "cell_type": "code",
   "execution_count": 218,
   "metadata": {},
   "outputs": [
    {
     "output_type": "stream",
     "name": "stdout",
     "text": [
      "[('After', 'IN'), ('the', 'DT'), ('death', 'NN'), ('of', 'IN'), ('his', 'PRP$'), ('brother', 'NN'), ('Cornelis', 'NNP'), (',', ','), ('De', 'NNP'), ('Graeff', 'NNP'), ('became', 'VBD'), ('the', 'DT'), ('strong', 'JJ'), ('leader', 'NN'), ('of', 'IN'), ('the', 'DT'), ('republicans', 'NNPS'), ('.', '.')]\n(S\n  (PP\n    (I After)\n    (NP\n      (DT the)\n      (N death)\n      (PP (I of) (NP (PR his) (N brother) (PN Cornelis)))))\n  ,\n  (NP (PN De) (PN Graeff))\n  (VP\n    (V became)\n    (NP (DT the) (J strong) (N leader))\n    (PP (I of) (NP (DT the) (PN republicans))))\n  .)\n\n"
     ]
    }
   ],
   "source": [
    "parse_sent(\"After the death of his brother Cornelis, De Graeff became the strong leader of the republicans.\")"
   ]
  },
  {
   "cell_type": "code",
   "execution_count": 219,
   "metadata": {},
   "outputs": [
    {
     "output_type": "stream",
     "name": "stdout",
     "text": [
      "[('In', 'IN'), ('1650', 'CD'), ('he', 'PRP'), ('started', 'VBD'), ('his', 'PRP$'), ('career', 'NN'), ('as', 'IN'), ('advisor', 'NN'), ('in', 'IN'), ('the', 'DT'), ('ministerium', 'NN'), ('of', 'IN'), ('finances', 'NNS'), ('in', 'IN'), ('Den', 'NNP'), ('Haag', 'NNP'), ('.', '.')]\n(S\n  (PP (I In) (CD 1650))\n  (PR he)\n  (VP\n    (V started)\n    (NP\n      (PR his)\n      (N career)\n      (PP\n        (I as)\n        (NP (N advisor) (PP (I in) (NP (DT the) (N ministerium))))))\n    (PP (I of) (NP (N finances) (PP (I in) (NP (PN Den) (PN Haag))))))\n  .)\n\n(S\n  (PP (I In) (CD 1650))\n  (PR he)\n  (VP\n    (V started)\n    (NP\n      (PR his)\n      (N career)\n      (PP\n        (I as)\n        (NP\n          (N advisor)\n          (PP\n            (I in)\n            (NP\n              (DT the)\n              (N ministerium)\n              (PP\n                (I of)\n                (NP (N finances) (PP (I in) (NP (PN Den) (PN Haag)))))))))))\n  .)\n\n"
     ]
    }
   ],
   "source": [
    "parse_sent(\"In 1650 he started his career as advisor in the ministerium of finances in Den Haag.\")"
   ]
  },
  {
   "cell_type": "code",
   "execution_count": 221,
   "metadata": {},
   "outputs": [
    {
     "output_type": "stream",
     "name": "stdout",
     "text": [
      "[('After', 'IN'), ('he', 'PRP'), ('became', 'VBD'), ('a', 'DT'), ('minister', 'NN'), ('he', 'PRP'), ('went', 'VBD'), ('back', 'RB'), ('to', 'TO'), ('Amsterdam', 'NNP'), (',', ','), ('and', 'CC'), ('took', 'VBD'), ('place', 'NN'), ('as', 'IN'), ('a', 'DT'), ('sort', 'NN'), ('of', 'IN'), ('chairing', 'VBG'), ('mayor', 'NN'), ('of', 'IN'), ('this', 'DT'), ('city', 'NN'), ('.', '.')]\n(S\n  (PP\n    (I After)\n    (clause (PR he) (VP (V became) (NP (DT a) (N minister)))))\n  (PR he)\n  (VP (V went) (R back) (I to) (PN Amsterdam))\n  ,\n  (CC and)\n  (VP\n    (V took)\n    (NP (N place) (PP (I as) (NP (DT a) (N sort))))\n    (PP\n      (I of)\n      (NP (J chairing) (N mayor) (PP (I of) (NP (DT this) (N city))))))\n  .)\n\n(S\n  (PP\n    (I After)\n    (clause (PR he) (VP (V became) (NP (DT a) (N minister)))))\n  (PR he)\n  (VP (V went) (R back) (I to) (PN Amsterdam))\n  ,\n  (CC and)\n  (VP\n    (V took)\n    (NP\n      (N place)\n      (PP\n        (I as)\n        (NP\n          (DT a)\n          (N sort)\n          (PP\n            (I of)\n            (NP\n              (J chairing)\n              (N mayor)\n              (PP (I of) (NP (DT this) (N city)))))))))\n  .)\n\n"
     ]
    }
   ],
   "source": [
    "parse_sent(\"After he became a minister he went back to Amsterdam, and took place as a sort of chairing mayor of this city.\")"
   ]
  },
  {
   "cell_type": "code",
   "execution_count": 204,
   "metadata": {},
   "outputs": [],
   "source": [
    "small_grammar = nltk.CFG.fromstring(\"\"\"\n",
    "    S -> NP VP\n",
    "    VP -> V PR\n",
    "    NP -> 'I'\n",
    "    \n",
    "    PR -> 'you' | 'hate'\n",
    "    V -> 'hate' | 'you'\n",
    "\"\"\")"
   ]
  },
  {
   "cell_type": "code",
   "execution_count": 205,
   "metadata": {},
   "outputs": [],
   "source": [
    "small_parser = nltk.ChartParser(small_grammar)"
   ]
  },
  {
   "cell_type": "code",
   "execution_count": 206,
   "metadata": {},
   "outputs": [
    {
     "output_type": "stream",
     "name": "stdout",
     "text": [
      "(S (NP I) (VP (V hate) (PR you)))\n"
     ]
    }
   ],
   "source": [
    "for tree in small_parser.parse(['I', 'hate', 'you']):\n",
    "    print(tree)"
   ]
  },
  {
   "cell_type": "code",
   "execution_count": null,
   "metadata": {},
   "outputs": [],
   "source": []
  }
 ]
}